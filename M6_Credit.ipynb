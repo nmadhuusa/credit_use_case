{
 "cells": [
  {
   "cell_type": "markdown",
   "id": "a5cc8190",
   "metadata": {
    "id": "a5cc8190"
   },
   "source": [
    "# Module 6: CFA\n",
    "# Use Case: Credit Risk - Identifying Bad Credit Risks\n",
    "# ===========================================\n",
    "\n",
    "In this example, we aim to predict bad consumer credits, and we develop a classification model for this purpose, driven by loan and debtor attributes. We would use this model to accept or reject a customer’s business.\n",
    "\n",
    "Dataset: Credit risk https://datahub.io/machine-learning/credit-g\n",
    "Dua, D. and Graff, C. (2019). UCI Machine Learning Repository [http://archive.ics.uci.edu/ml]. Irvine, CA: University of California, School of Information and Computer Science."
   ]
  },
  {
   "cell_type": "code",
   "execution_count": 1,
   "id": "35f08271",
   "metadata": {
    "id": "35f08271"
   },
   "outputs": [],
   "source": [
    "# package for working with tabular data\n",
    "import pandas as pd \n",
    "import numpy as np\n",
    "\n",
    "# Package for charting\n",
    "import matplotlib.pyplot as plt\n",
    "import seaborn as sns #charts\n",
    "\n",
    "# package for timing runtime\n",
    "import time\n",
    "\n",
    "# package for navigating the operating system\n",
    "import os"
   ]
  },
  {
   "cell_type": "markdown",
   "id": "0xu8WyTTVNGd",
   "metadata": {
    "id": "0xu8WyTTVNGd"
   },
   "source": [
    "## Utilities: Governance and Fairness\n",
    "\n",
    "First we will declare and introduce the functions we will be using to implement the Governance Framework, and principles of Fairness in our process.\n",
    "\n",
    "\n"
   ]
  },
  {
   "cell_type": "markdown",
   "id": "JE0VW_oeVnah",
   "metadata": {
    "id": "JE0VW_oeVnah"
   },
   "source": [
    "### Governance Framework Functions\n",
    "\n",
    "@@@@@@@@@@@@@@ AUGUSTINE! DECLARE ALL YOUR FUNCTIONS HERE ... WE CAN LATER DECIDE IF WE PACKAGE UP"
   ]
  },
  {
   "cell_type": "markdown",
   "id": "wbY4WfepSk9J",
   "metadata": {
    "id": "wbY4WfepSk9J"
   },
   "source": [
    "### Stakeholder KPIs\n",
    "\n",
    "\n",
    "In Stage1, Business Analysis, we will find that we have several stakeholders for the model. We need analytics and visualizations to verify that we are attaining good performance on each stakeholder's key performance indicators (KPI) We list the stakeholder governance functions we will use as utilities in this case study now..."
   ]
  },
  {
   "cell_type": "code",
   "execution_count": 2,
   "id": "2rm-orUwNZ8W",
   "metadata": {
    "id": "2rm-orUwNZ8W"
   },
   "outputs": [],
   "source": [
    "# ROC Curve to visualize classifier accuracy.\n",
    "import sklearn.metrics as metrics\n",
    "\n",
    "# Performance metrics...\n",
    "from sklearn.metrics import f1_score\n",
    "from sklearn.metrics import precision_score\n",
    "from sklearn.metrics import recall_score\n",
    "\n",
    "# Analyst KPI: ROC Curve, f1, precision and accuracy of y_hat from a classifier\n",
    "# Compute micro-average ROC curve and ROC area\n",
    "def kpi_review_analyst(mdl: object,\n",
    "                       X: np.array, \n",
    "                       y: np.array,\n",
    "                       y_hat: np.array) -> (float, float, float):\n",
    "\n",
    "  #sanity\n",
    "  if X.shape[0] != y_test.shape[0]:\n",
    "    raise TypeError('Bad parameter: X.shape[0] != y_test.shape[0]')\n",
    "  if y.shape[0] != y_hat.shape[0]:\n",
    "    raise TypeError('Bad parameter: y_test.shape[0] != y_test_hat.shape[0]')\n",
    "  if (y.dtype != y_hat.dtype):\n",
    "    raise TypeError('Bad parameter: y_test.dtypes != y_test_hat.dtypes')\n",
    "\n",
    "  # F1, precision, recall...  \n",
    "  prec = precision_score(y_true=y[:], y_pred=y_hat[:])\n",
    "  rec = recall_score(y_true=y[:], y_pred=y_hat[:])\n",
    "  f1 = f1_score(y_true=y[:], y_pred=y_hat[:])\n",
    "\n",
    "  print(prec)\n",
    "\n",
    "  # ROC Curve\n",
    "  metrics.plot_roc_curve(mdl, X, y) \n",
    "  fpr, tpr, thresholds = metrics.roc_curve(y, y_hat)\n",
    "  roc_auc = metrics.auc(fpr, tpr)\n",
    "  display = metrics.RocCurveDisplay(fpr=fpr, tpr=tpr, roc_auc=roc_auc,\n",
    "                                    estimator_name='example estimator')\n",
    "  display.plot()\n",
    "  plt.show()\n",
    "\n",
    "  return f1, prec, rec\n"
   ]
  },
  {
   "cell_type": "markdown",
   "id": "OmxxP7U6Vy3v",
   "metadata": {
    "id": "OmxxP7U6Vy3v"
   },
   "source": [
    "### Fairness Functions\n",
    "\n",
    "@@@@@@@@@@@@@@ MADHU! DECLARE ALL YOUR FUNCTIONS HERE ... WE CAN LATER DECIDE IF WE PACKAGE UP"
   ]
  },
  {
   "cell_type": "code",
   "execution_count": 25,
   "id": "b2c2da67-2b45-4e80-8651-ed7700a77c9f",
   "metadata": {},
   "outputs": [],
   "source": [
    "#Added by Madhu\n",
    "from sklearn.metrics import confusion_matrix\n",
    "def x_metrics(true_label, predicted_label):\n",
    "    #This module computes the confusion matrix columns\n",
    "    TN, FP, FN, TP = confusion_matrix(true_label, predicted_label, labels = [0,1]).ravel()\n",
    "    return TN, FP, FN, TP\n",
    "\n",
    "def trainModel(X_train, y_train):\n",
    "    rf1 = RandomForestClassifier(max_depth=5,random_state=0)\n",
    "    rf1.fit(X_train,y_train)\n",
    "    return rf1\n",
    "\n",
    "def predictModel(model, X_test, threshold=0.5):\n",
    "    y_pred_proba = model.predict_proba(X_test)\n",
    "    return (y_pred_proba[:,0] < threshold).astype('int')\n",
    "\n",
    "def getFairnessRatios(y_test, y_pred):\n",
    "    TN, FP, FN, TP = x_metrics(y_test, y_pred)\n",
    "    accuracy = (TP + TN)/(TP+TN+FP+FN)\n",
    "    fnr = FN/(FN+TP)\n",
    "    fdr = FP/(FP+TP)\n",
    "    fpr = FP/(FP+TN)\n",
    "    npv = TN/(TN+FN)\n",
    "    recall = TP/(TP+FN)\n",
    "    precision = TP/(TP+FP)\n",
    "    return pd.Series({'Stats': '', 'Accuracy': accuracy, 'Precision': precision, 'Recall': recall, 'fnr': fnr, 'fdr': fdr, 'fpr': fpr, 'npv': npv})\n"
   ]
  },
  {
   "cell_type": "markdown",
   "id": "c30aa2ff-8e9c-402b-a2bf-89848734c593",
   "metadata": {},
   "source": [
    "This module *getFairnessStats* generates the fairness test stats, for each of the population groups. The inputs are:\n",
    "* aCategory: The population group to be tested, e.g. gender\n",
    "* catList: List of possible values for the category e.g. Male, Female\n",
    "\n",
    "The output from this module is a dataframe with the precision, recall etc metrics, for each of the population groups\n",
    "\n"
   ]
  },
  {
   "cell_type": "code",
   "execution_count": 38,
   "id": "90e61e29-bf1c-4c48-9b3c-499df8552bae",
   "metadata": {},
   "outputs": [],
   "source": [
    "#Added by Madhu\n",
    "def getFairnessStats (aModel, aCategory, catList, X_test, y_test, threshold):\n",
    "    anIndex=0\n",
    "    y_testS = []\n",
    "    y_pred = []\n",
    "    X_testS = []\n",
    "    modelStats = []\n",
    "    statsDF = pd.DataFrame(columns=['Stats'])\n",
    "    for catG in catList:\n",
    "        #Create category specific test data - i.e. Male and Female test data\n",
    "        X_testS.append( X_test[(X_test[aCategory] == catG)])\n",
    "        X_testS[anIndex] = X_testS[anIndex].drop(aCategory, axis=1)\n",
    "        \n",
    "        y_testS.append(y_test[(y_test[aCategory] == catG)])\n",
    "        y_testS[anIndex] = y_testS[anIndex].drop(aCategory, axis=1)\n",
    "        \n",
    "        y_pred.append( predictModel(model, X_testS[anIndex], threshold))\n",
    "        modelStats.append(getFairnessRatios(y_testS[anIndex], y_pred[anIndex]))\n",
    "        \n",
    "        modelStats[anIndex].update({'Stats': catG})\n",
    "        statsDF = pd.concat([statsDF, pd.DataFrame([modelStats[anIndex]], columns=modelStats[anIndex].index)]).reset_index(drop=True)\n",
    "        anIndex+=1\n",
    "    return statsDF"
   ]
  },
  {
   "cell_type": "markdown",
   "id": "8aae4ccd-db7c-4fe8-b995-233e2e090a08",
   "metadata": {},
   "source": [
    "This module *testForFairness* plots a bar chart with the appropriate metric, for each of the population groups. The inputs are:\n",
    "* fairnessTestItems: The population groups to be tested, e.g. gender\n",
    "* majorityCategories: List of majority population group name e.g. Male\n",
    "* compareMetrics: which fairness metric to compare across population groups. e.g. Precision\n",
    "\n",
    "The output from this module is a dataframe with the precision, recall etc metrics, for each of the population groups"
   ]
  },
  {
   "cell_type": "code",
   "execution_count": 39,
   "id": "af15d034-0b2f-4d54-b28e-ad58fa803726",
   "metadata": {},
   "outputs": [],
   "source": [
    "#Added by Madhu\n",
    "def testForFairness (aModel, fairnessTestItems, majorityCategories, compareMetrics = [\"Precision\"], threshold=0.8, rangePercent = 0.2):\n",
    "    fig, axs = plt.subplots(len(compareMetrics), len(fairnessTestItems))\n",
    "    for anIndex in range(len(fairnessTestItems)):\n",
    "        aCategory = fairnessTestItems[anIndex]\n",
    "        catList = X_test[aCategory].unique().tolist()\n",
    "        majorityClass = majorityCategories[anIndex]\n",
    "        xxx = fairnessTestItems.copy()\n",
    "        xxx.remove(aCategory)\n",
    "        X_test_FT = X_test.drop(xxx, axis=1)\n",
    "        y_test_FT = y_test.drop(xxx, axis=1)\n",
    "        statsDF = getFairnessStats (aModel, aCategory, catList, X_test_FT, y_test_FT, threshold)\n",
    "        #Now plot the fairness charts\n",
    "        X_val = statsDF[\"Stats\"].values.tolist()\n",
    "        aMetricIndex = 0\n",
    "        for aMetric in compareMetrics: \n",
    "            majRange = statsDF.loc[statsDF[\"Stats\"] == majorityClass, aMetric].astype('float64').values[0]\n",
    "            Y_val = statsDF[aMetric].values.tolist()\n",
    "            axs[aMetricIndex, anIndex].bar(X_val, Y_val)\n",
    "            axs[aMetricIndex, anIndex].set_title( \"At Threshold \" + str(threshold))\n",
    "            axs[aMetricIndex, anIndex].set_ylim(0,1)\n",
    "            axs[aMetricIndex, anIndex].set_ylabel(aMetric)\n",
    "            axs[aMetricIndex, anIndex].axhline(y=majRange*(1-rangePercent),color='red')\n",
    "            axs[aMetricIndex, anIndex].axhline(y=majRange,color='green')\n",
    "            axs[aMetricIndex, anIndex].axhline(y=majRange*(1+rangePercent),color='red')\n",
    "            plt.subplots_adjust(hspace=1)\n",
    "            aMetricIndex += 1\n",
    "    fig.tight_layout()"
   ]
  },
  {
   "cell_type": "markdown",
   "id": "rDXnNSIt5GUs",
   "metadata": {
    "id": "rDXnNSIt5GUs"
   },
   "source": [
    "# Stage1. Business Case \n",
    "\n",
    "Define key performance indicators (KPIs). \n",
    "Data needed, outcomes, model risk level, communication strategy.\n",
    "Regulatory and Compliance issues \n",
    "\n",
    "Limitations of the models\n",
    "\n",
    "Assumptions made by the models\n",
    "\n",
    "Restrictions of the models...\n",
    "\n",
    "@@@@@@@@@@@@@@@@@@@@@ MADHU ARE YOU OK DEFINING KPIs HERE? 1) ACCURACY? 2) FAIRNESS\n"
   ]
  },
  {
   "cell_type": "markdown",
   "id": "_DfUFfsmFWh5",
   "metadata": {
    "id": "_DfUFfsmFWh5"
   },
   "source": [
    "# Stage2. Data\n",
    "\n",
    "Next we load the data we need to achieve our business aims, wrangle it and prepare it."
   ]
  },
  {
   "cell_type": "markdown",
   "id": "z_M1xrqYGCJ9",
   "metadata": {
    "id": "z_M1xrqYGCJ9"
   },
   "source": [
    "##Stage2a. Load Data"
   ]
  },
  {
   "cell_type": "markdown",
   "id": "sFBrITKU_6A0",
   "metadata": {
    "id": "sFBrITKU_6A0"
   },
   "source": [
    "If this is running in Google Colab.... we extract the GitHub loc where the data resides...."
   ]
  },
  {
   "cell_type": "code",
   "execution_count": 438,
   "id": "CysAAt4-AdN8",
   "metadata": {
    "colab": {
     "base_uri": "https://localhost:8080/"
    },
    "id": "CysAAt4-AdN8",
    "outputId": "ca7f450a-a82d-412d-b932-ac27b27c7630"
   },
   "outputs": [
    {
     "name": "stdout",
     "output_type": "stream",
     "text": [
      "Cloning into 'credit_use_case'...\n",
      "remote: Enumerating objects: 115, done.\u001b[K\n",
      "remote: Counting objects: 100% (115/115), done.\u001b[K\n",
      "remote: Compressing objects: 100% (109/109), done.\u001b[K\n",
      "remote: Total 115 (delta 49), reused 19 (delta 3), pack-reused 0\u001b[K\n",
      "Receiving objects: 100% (115/115), 18.49 MiB | 10.16 MiB/s, done.\n",
      "Resolving deltas: 100% (49/49), done.\n"
     ]
    }
   ],
   "source": [
    "!git clone https://github.com/danphilps/credit_use_case"
   ]
  },
  {
   "cell_type": "code",
   "execution_count": 439,
   "id": "LusHe3a2BF_t",
   "metadata": {
    "colab": {
     "base_uri": "https://localhost:8080/"
    },
    "id": "LusHe3a2BF_t",
    "outputId": "f9310281-8942-4c4f-fc1c-3ed139d54273"
   },
   "outputs": [
    {
     "data": {
      "text/plain": [
       "['Ch20_AutoML.ipynb',\n",
       " 'Bkup',\n",
       " 'credit_use_case',\n",
       " 'credit-g.csv',\n",
       " 'M6_Credit',\n",
       " '.gitattributes',\n",
       " 'M6_Credit_BAK.ipynb',\n",
       " 'README.md',\n",
       " '.git',\n",
       " 'M6_Credit.ipynb']"
      ]
     },
     "execution_count": 439,
     "metadata": {},
     "output_type": "execute_result"
    }
   ],
   "source": [
    "# We should see a \"credit_use_case\" directory....\n",
    "os.listdir()"
   ]
  },
  {
   "cell_type": "code",
   "execution_count": 440,
   "id": "hhMDMb1xB0yk",
   "metadata": {
    "id": "hhMDMb1xB0yk"
   },
   "outputs": [],
   "source": [
    "os.chdir('credit_use_case')"
   ]
  },
  {
   "cell_type": "code",
   "execution_count": 3,
   "id": "c26b1a44",
   "metadata": {
    "id": "c26b1a44"
   },
   "outputs": [],
   "source": [
    "loc = \"credit-g.csv\"\n",
    "df_raw = pd.read_csv(loc)"
   ]
  },
  {
   "cell_type": "code",
   "execution_count": 442,
   "id": "pwvlymBMFqsW",
   "metadata": {
    "colab": {
     "base_uri": "https://localhost:8080/"
    },
    "id": "pwvlymBMFqsW",
    "outputId": "5136d32a-6092-4428-8a8e-109d5d36c335"
   },
   "outputs": [
    {
     "data": {
      "text/plain": [
       "Index(['checking_status', 'duration', 'credit_history', 'purpose',\n",
       "       'credit_amount', 'savings_status', 'employment',\n",
       "       'installment_commitment', 'personal_status', 'other_parties',\n",
       "       'residence_since', 'property_magnitude', 'age', 'other_payment_plans',\n",
       "       'housing', 'existing_credits', 'job', 'num_dependents', 'own_telephone',\n",
       "       'foreign_worker', 'class'],\n",
       "      dtype='object')"
      ]
     },
     "execution_count": 442,
     "metadata": {},
     "output_type": "execute_result"
    }
   ],
   "source": [
    "df_raw.columns"
   ]
  },
  {
   "cell_type": "markdown",
   "id": "qV1jmvnXDdEl",
   "metadata": {
    "id": "qV1jmvnXDdEl"
   },
   "source": [
    "#### Bias Alert: Protected and Privileged Groups...\n",
    "\n",
    "Loan approval is a high risk application. We need to go very carefully as a result. We need to identify any protected characteristics (ie it would be illegal to differentiate based on these) present in the dataset. \n",
    "Our use-case is a loan approval use case, ethnicity and gender are protected charcteristics where biases would be illegal. We clearly need to remove these features.\n",
    "It is also possible to identify priviledged groups and remove biases based on these characterictics. \n"
   ]
  },
  {
   "cell_type": "code",
   "execution_count": 4,
   "id": "0n2YS32BDd6N",
   "metadata": {
    "id": "0n2YS32BDd6N"
   },
   "outputs": [],
   "source": [
    "# Protected data items - 'personal_status' has a \"sex\" classifier - REMOVE!\n",
    "df = df_raw.drop(columns=['personal_status'])\n",
    "\n",
    "# Priviledged dataitems - remove all ages < 25\n",
    "df['age'] = df_raw['age'][lambda x: x >= 25]\n"
   ]
  },
  {
   "cell_type": "code",
   "execution_count": 5,
   "id": "NQaeBvyxMddk",
   "metadata": {
    "colab": {
     "base_uri": "https://localhost:8080/"
    },
    "id": "NQaeBvyxMddk",
    "outputId": "5ce8cfc7-b17e-497b-f13d-7e57268a3cf6"
   },
   "outputs": [
    {
     "name": "stdout",
     "output_type": "stream",
     "text": [
      "Female good credits: 64.84%\n",
      "Male good credits: 72.32%\n"
     ]
    }
   ],
   "source": [
    "# Check for biases on protected characteristics...\n",
    "df_female = df_raw[(df_raw['personal_status'].str.contains('female') != 0)]\n",
    "df_male = df_raw[(df_raw['personal_status'].str.contains('female') == 0)]\n",
    "\n",
    "# % of females \n",
    "female_good_credits = df_female[(df_female['class'] == 'good')].shape[0]\n",
    "female_good_credits_pct = female_good_credits / df_female.shape[0]\n",
    "#\n",
    "male_good_credits = df_male[(df_male['class'] == 'good')].shape[0] \n",
    "male_good_credits_pct = male_good_credits / df_male.shape[0]\n",
    "\n",
    "#  Difference in good credits for females and males...\n",
    "print('Female good credits: ' + str(format(round(female_good_credits_pct*100, 2))) + '%')\n",
    "print('Male good credits: ' + str(format(round(male_good_credits_pct*100, 2))) + '%')\n"
   ]
  },
  {
   "cell_type": "markdown",
   "id": "cB4L-E2-Te1u",
   "metadata": {
    "id": "cB4L-E2-Te1u"
   },
   "source": [
    "There is clearly a bias in the dataset, but to expand upon this we can use a Chi2 test to examine whether the observed \"bad\" credits we see in female rows, is statistically significant to the expected difference we see in male rows.\n",
    "\n",
    "It is possible that this bias is proxied by another data item in the dataset. **We will come back to this issue later**."
   ]
  },
  {
   "cell_type": "code",
   "execution_count": 6,
   "id": "nPksuW6KKdhV",
   "metadata": {
    "colab": {
     "base_uri": "https://localhost:8080/"
    },
    "id": "nPksuW6KKdhV",
    "outputId": "c0595683-354d-431c-b452-7e1c163f6444"
   },
   "outputs": [
    {
     "name": "stdout",
     "output_type": "stream",
     "text": [
      "Male/Female Good/Bad Credits Confusion Matrix \n",
      "class   bad  good\n",
      "gender           \n",
      "female  191   499\n",
      "male    109   201\n",
      "\n",
      " Chi-square test of independence\n",
      "p-val of Chi2 test: 0.0207\n"
     ]
    }
   ],
   "source": [
    "from scipy.stats import chi2_contingency\n",
    "\n",
    "# Examine gender bias ... Generate  confusion matrix that to examine this bias...\n",
    "df_raw['gender'] = np.where(df_raw['personal_status'].str.contains('female') == 0, 'female', 'male')\n",
    "conf_matrix = pd.crosstab(df_raw['gender'], df_raw['class']) \n",
    "\n",
    "print('Male/Female Good/Bad Credits Confusion Matrix \\n' + str(conf_matrix))\n",
    "\n",
    "# Chi-square test of independence. \n",
    "c, p, dof, expected = chi2_contingency(conf_matrix) \n",
    "# Print the p-value\n",
    "print('\\n Chi-square test of independence')\n",
    "print('p-val of Chi2 test: ' + str(round(p, 4)))"
   ]
  },
  {
   "cell_type": "markdown",
   "id": "fnCjWx6eqGHE",
   "metadata": {
    "id": "fnCjWx6eqGHE"
   },
   "source": [
    "Note that we now have identified 2 classes, male and female, with males priviledged, which means we need to be fair between these two groups "
   ]
  },
  {
   "cell_type": "markdown",
   "id": "tVRDgt03tG5c",
   "metadata": {
    "id": "tVRDgt03tG5c"
   },
   "source": [
    "### Check for proxies of our protected characteristics\n",
    " \n",
    "We noted that there is a bias in our dataset between the protected characterisctis of gender, with male and female credits being different, and we removed this protected characteristic from the dataset to avoid this illegal bias in loan approval outcomes.\n",
    "\n",
    "Protected characteristics can be picked up (proxied) in other dataitems in more subtle ways though. For instance given that single parent households tend to disproportionately be led by a female adult, this may make 'num_dependents' a proxy for gender.\n",
    "\n",
    "It is important that we control for any possible protected biases, and one way of achieving this is to retrain our model using a mitigator, which trains by constraining the model weights to produce a balanced outcome between protected classes; male and female credits in this case.\n",
    "\n",
    "To ascertain proxies we can check the correlation of our protected feature with ther features in the dataset.\n",
    "\n",
    "Our protected features is categorical, so compare other categorical features with our protected feature we can use a Chi2 test. \n",
    "To compare  "
   ]
  },
  {
   "cell_type": "code",
   "execution_count": 446,
   "id": "eButjMDcPwHz",
   "metadata": {
    "id": "eButjMDcPwHz"
   },
   "outputs": [],
   "source": [
    "# MADHU: FAIRNESS FUNCTION HERE!!"
   ]
  },
  {
   "cell_type": "markdown",
   "id": "bdd49632",
   "metadata": {
    "id": "bdd49632"
   },
   "source": [
    "## Stage2b. Data Wrangling and Preprocessing\n",
    "\n",
    "Data Wrangling: As we have shown in previous chapters we need to convert categorical data into one-hot-encodings, clean characters from numeric data columns, carry out type conversions into numeric datatypes... The following cell shows the appropriate data wrangling to get our data into a good shape. "
   ]
  },
  {
   "cell_type": "code",
   "execution_count": 16,
   "id": "c62115a2",
   "metadata": {
    "colab": {
     "base_uri": "https://localhost:8080/",
     "height": 0
    },
    "id": "c62115a2",
    "outputId": "6d91b587-d905-4138-9300-74ebfe3249bb",
    "scrolled": true
   },
   "outputs": [
    {
     "ename": "KeyError",
     "evalue": "\"None of [Index(['checking_status', 'purpose', 'credit_history', 'savings_status',\\n       'employment', 'other_parties', 'property_magnitude',\\n       'other_payment_plans', 'housing', 'job', 'own_telephone'],\\n      dtype='object')] are in the [columns]\"",
     "output_type": "error",
     "traceback": [
      "\u001b[0;31m---------------------------------------------------------------------------\u001b[0m",
      "\u001b[0;31mKeyError\u001b[0m                                  Traceback (most recent call last)",
      "\u001b[0;32m/var/folders/vt/y0s__sfn49j5x0l03d9y4ff80000gn/T/ipykernel_1050/1967277598.py\u001b[0m in \u001b[0;36m<module>\u001b[0;34m\u001b[0m\n\u001b[1;32m      3\u001b[0m \u001b[0;34m\u001b[0m\u001b[0m\n\u001b[1;32m      4\u001b[0m \u001b[0;31m# One hot encoding of catagorical variables...\u001b[0m\u001b[0;34m\u001b[0m\u001b[0;34m\u001b[0m\u001b[0m\n\u001b[0;32m----> 5\u001b[0;31m \u001b[0mdf\u001b[0m\u001b[0;34m[\u001b[0m\u001b[0mcat_cols\u001b[0m\u001b[0;34m]\u001b[0m\u001b[0;34m.\u001b[0m\u001b[0mastype\u001b[0m\u001b[0;34m(\u001b[0m\u001b[0;34m\"category\"\u001b[0m\u001b[0;34m)\u001b[0m\u001b[0;34m\u001b[0m\u001b[0;34m\u001b[0m\u001b[0m\n\u001b[0m\u001b[1;32m      6\u001b[0m \u001b[0mone_hot_encodings\u001b[0m \u001b[0;34m=\u001b[0m \u001b[0mpd\u001b[0m\u001b[0;34m.\u001b[0m\u001b[0mget_dummies\u001b[0m\u001b[0;34m(\u001b[0m\u001b[0mdf\u001b[0m\u001b[0;34m[\u001b[0m\u001b[0mcat_cols\u001b[0m\u001b[0;34m]\u001b[0m\u001b[0;34m)\u001b[0m\u001b[0;34m\u001b[0m\u001b[0;34m\u001b[0m\u001b[0m\n\u001b[1;32m      7\u001b[0m \u001b[0;34m\u001b[0m\u001b[0m\n",
      "\u001b[0;32m~/opt/anaconda3/lib/python3.9/site-packages/pandas/core/frame.py\u001b[0m in \u001b[0;36m__getitem__\u001b[0;34m(self, key)\u001b[0m\n\u001b[1;32m   3509\u001b[0m             \u001b[0;32mif\u001b[0m \u001b[0mis_iterator\u001b[0m\u001b[0;34m(\u001b[0m\u001b[0mkey\u001b[0m\u001b[0;34m)\u001b[0m\u001b[0;34m:\u001b[0m\u001b[0;34m\u001b[0m\u001b[0;34m\u001b[0m\u001b[0m\n\u001b[1;32m   3510\u001b[0m                 \u001b[0mkey\u001b[0m \u001b[0;34m=\u001b[0m \u001b[0mlist\u001b[0m\u001b[0;34m(\u001b[0m\u001b[0mkey\u001b[0m\u001b[0;34m)\u001b[0m\u001b[0;34m\u001b[0m\u001b[0;34m\u001b[0m\u001b[0m\n\u001b[0;32m-> 3511\u001b[0;31m             \u001b[0mindexer\u001b[0m \u001b[0;34m=\u001b[0m \u001b[0mself\u001b[0m\u001b[0;34m.\u001b[0m\u001b[0mcolumns\u001b[0m\u001b[0;34m.\u001b[0m\u001b[0m_get_indexer_strict\u001b[0m\u001b[0;34m(\u001b[0m\u001b[0mkey\u001b[0m\u001b[0;34m,\u001b[0m \u001b[0;34m\"columns\"\u001b[0m\u001b[0;34m)\u001b[0m\u001b[0;34m[\u001b[0m\u001b[0;36m1\u001b[0m\u001b[0;34m]\u001b[0m\u001b[0;34m\u001b[0m\u001b[0;34m\u001b[0m\u001b[0m\n\u001b[0m\u001b[1;32m   3512\u001b[0m \u001b[0;34m\u001b[0m\u001b[0m\n\u001b[1;32m   3513\u001b[0m         \u001b[0;31m# take() does not accept boolean indexers\u001b[0m\u001b[0;34m\u001b[0m\u001b[0;34m\u001b[0m\u001b[0m\n",
      "\u001b[0;32m~/opt/anaconda3/lib/python3.9/site-packages/pandas/core/indexes/base.py\u001b[0m in \u001b[0;36m_get_indexer_strict\u001b[0;34m(self, key, axis_name)\u001b[0m\n\u001b[1;32m   5794\u001b[0m             \u001b[0mkeyarr\u001b[0m\u001b[0;34m,\u001b[0m \u001b[0mindexer\u001b[0m\u001b[0;34m,\u001b[0m \u001b[0mnew_indexer\u001b[0m \u001b[0;34m=\u001b[0m \u001b[0mself\u001b[0m\u001b[0;34m.\u001b[0m\u001b[0m_reindex_non_unique\u001b[0m\u001b[0;34m(\u001b[0m\u001b[0mkeyarr\u001b[0m\u001b[0;34m)\u001b[0m\u001b[0;34m\u001b[0m\u001b[0;34m\u001b[0m\u001b[0m\n\u001b[1;32m   5795\u001b[0m \u001b[0;34m\u001b[0m\u001b[0m\n\u001b[0;32m-> 5796\u001b[0;31m         \u001b[0mself\u001b[0m\u001b[0;34m.\u001b[0m\u001b[0m_raise_if_missing\u001b[0m\u001b[0;34m(\u001b[0m\u001b[0mkeyarr\u001b[0m\u001b[0;34m,\u001b[0m \u001b[0mindexer\u001b[0m\u001b[0;34m,\u001b[0m \u001b[0maxis_name\u001b[0m\u001b[0;34m)\u001b[0m\u001b[0;34m\u001b[0m\u001b[0;34m\u001b[0m\u001b[0m\n\u001b[0m\u001b[1;32m   5797\u001b[0m \u001b[0;34m\u001b[0m\u001b[0m\n\u001b[1;32m   5798\u001b[0m         \u001b[0mkeyarr\u001b[0m \u001b[0;34m=\u001b[0m \u001b[0mself\u001b[0m\u001b[0;34m.\u001b[0m\u001b[0mtake\u001b[0m\u001b[0;34m(\u001b[0m\u001b[0mindexer\u001b[0m\u001b[0;34m)\u001b[0m\u001b[0;34m\u001b[0m\u001b[0;34m\u001b[0m\u001b[0m\n",
      "\u001b[0;32m~/opt/anaconda3/lib/python3.9/site-packages/pandas/core/indexes/base.py\u001b[0m in \u001b[0;36m_raise_if_missing\u001b[0;34m(self, key, indexer, axis_name)\u001b[0m\n\u001b[1;32m   5854\u001b[0m                 \u001b[0;32mif\u001b[0m \u001b[0muse_interval_msg\u001b[0m\u001b[0;34m:\u001b[0m\u001b[0;34m\u001b[0m\u001b[0;34m\u001b[0m\u001b[0m\n\u001b[1;32m   5855\u001b[0m                     \u001b[0mkey\u001b[0m \u001b[0;34m=\u001b[0m \u001b[0mlist\u001b[0m\u001b[0;34m(\u001b[0m\u001b[0mkey\u001b[0m\u001b[0;34m)\u001b[0m\u001b[0;34m\u001b[0m\u001b[0;34m\u001b[0m\u001b[0m\n\u001b[0;32m-> 5856\u001b[0;31m                 \u001b[0;32mraise\u001b[0m \u001b[0mKeyError\u001b[0m\u001b[0;34m(\u001b[0m\u001b[0;34mf\"None of [{key}] are in the [{axis_name}]\"\u001b[0m\u001b[0;34m)\u001b[0m\u001b[0;34m\u001b[0m\u001b[0;34m\u001b[0m\u001b[0m\n\u001b[0m\u001b[1;32m   5857\u001b[0m \u001b[0;34m\u001b[0m\u001b[0m\n\u001b[1;32m   5858\u001b[0m             \u001b[0mnot_found\u001b[0m \u001b[0;34m=\u001b[0m \u001b[0mlist\u001b[0m\u001b[0;34m(\u001b[0m\u001b[0mensure_index\u001b[0m\u001b[0;34m(\u001b[0m\u001b[0mkey\u001b[0m\u001b[0;34m)\u001b[0m\u001b[0;34m[\u001b[0m\u001b[0mmissing_mask\u001b[0m\u001b[0;34m.\u001b[0m\u001b[0mnonzero\u001b[0m\u001b[0;34m(\u001b[0m\u001b[0;34m)\u001b[0m\u001b[0;34m[\u001b[0m\u001b[0;36m0\u001b[0m\u001b[0;34m]\u001b[0m\u001b[0;34m]\u001b[0m\u001b[0;34m.\u001b[0m\u001b[0munique\u001b[0m\u001b[0;34m(\u001b[0m\u001b[0;34m)\u001b[0m\u001b[0;34m)\u001b[0m\u001b[0;34m\u001b[0m\u001b[0;34m\u001b[0m\u001b[0m\n",
      "\u001b[0;31mKeyError\u001b[0m: \"None of [Index(['checking_status', 'purpose', 'credit_history', 'savings_status',\\n       'employment', 'other_parties', 'property_magnitude',\\n       'other_payment_plans', 'housing', 'job', 'own_telephone'],\\n      dtype='object')] are in the [columns]\""
     ]
    }
   ],
   "source": [
    "# list categorical columns...\n",
    "cat_cols =['checking_status', 'purpose', 'credit_history', 'savings_status', 'employment', 'other_parties', 'property_magnitude', 'other_payment_plans','housing','job','own_telephone']\n",
    "\n",
    "# One hot encoding of catagorical variables...\n",
    "df[cat_cols].astype(\"category\")\n",
    "one_hot_encodings = pd.get_dummies(df[cat_cols])\n",
    "\n",
    "#Combine dfs\n",
    "df = pd.concat([df, one_hot_encodings], axis=1)\n",
    "\n",
    "#remove categorical columns...\n",
    "df = df.drop(columns=cat_cols)\n",
    "\n",
    "#Data wrangling..... get types and bad values sorted out\n",
    "\n",
    "# Remove characters in numeric columns (note that the data type was set, by the open_csv function to object, \n",
    "# so we first convert to string before running the replace function (which can only be fun on str types)\n",
    "df['foreign_worker'] = df['foreign_worker'].str.replace('yes', '1')\n",
    "df['foreign_worker'] = df['foreign_worker'].str.replace('no', '0')\n",
    "df['class'] = df['class'].str.replace('good', '0')\n",
    "df['class'] = df['class'].str.replace('bad', '1')\n",
    "\n",
    "# Convert to numerics so we can use in ML... we force type conversions, then print our resulting df.\n",
    "df['foreign_worker'] = pd.to_numeric(df['foreign_worker'], errors ='coerce').fillna(0).astype('int')\n",
    "df['class'] = pd.to_numeric(df['class'], errors ='coerce').fillna(0).astype('int')\n",
    "df['duration'] = pd.to_numeric(df['duration'], errors ='coerce').fillna(0).astype('int')\n",
    "df['installment_commitment'] = pd.to_numeric(df['installment_commitment'], errors ='coerce').fillna(0).astype('int')\n",
    "df['residence_since'] = pd.to_numeric(df['residence_since'], errors ='coerce').fillna(0).astype('int')\n",
    "df['age'] = pd.to_numeric(df['age'], errors ='coerce').fillna(0).astype('int')\n",
    "df['num_dependents'] = pd.to_numeric(df['num_dependents'], errors ='coerce').fillna(0).astype('int')\n",
    "\n",
    "df"
   ]
  },
  {
   "cell_type": "markdown",
   "id": "jCs33N2k8iVd",
   "metadata": {
    "id": "jCs33N2k8iVd"
   },
   "source": []
  },
  {
   "cell_type": "code",
   "execution_count": 17,
   "id": "wljCC_8z_jL2",
   "metadata": {
    "colab": {
     "base_uri": "https://localhost:8080/"
    },
    "id": "wljCC_8z_jL2",
    "outputId": "9fc1e905-ff0f-432a-e1df-add1a2f13cc5"
   },
   "outputs": [
    {
     "data": {
      "text/plain": [
       "Index(['duration', 'credit_amount', 'installment_commitment',\n",
       "       'residence_since', 'age', 'existing_credits', 'num_dependents',\n",
       "       'foreign_worker', 'class', 'checking_status_0<=X<200',\n",
       "       'checking_status_<0', 'checking_status_>=200',\n",
       "       'checking_status_no checking', 'purpose_business',\n",
       "       'purpose_domestic appliance', 'purpose_education',\n",
       "       'purpose_furniture/equipment', 'purpose_new car', 'purpose_other',\n",
       "       'purpose_radio/tv', 'purpose_repairs', 'purpose_retraining',\n",
       "       'purpose_used car', 'credit_history_all paid',\n",
       "       'credit_history_critical/other existing credit',\n",
       "       'credit_history_delayed previously', 'credit_history_existing paid',\n",
       "       'credit_history_no credits/all paid', 'savings_status_100<=X<500',\n",
       "       'savings_status_500<=X<1000', 'savings_status_<100',\n",
       "       'savings_status_>=1000', 'savings_status_no known savings',\n",
       "       'employment_1<=X<4', 'employment_4<=X<7', 'employment_<1',\n",
       "       'employment_>=7', 'employment_unemployed', 'other_parties_co applicant',\n",
       "       'other_parties_guarantor', 'other_parties_none',\n",
       "       'property_magnitude_car', 'property_magnitude_life insurance',\n",
       "       'property_magnitude_no known property',\n",
       "       'property_magnitude_real estate', 'other_payment_plans_bank',\n",
       "       'other_payment_plans_none', 'other_payment_plans_stores',\n",
       "       'housing_for free', 'housing_own', 'housing_rent',\n",
       "       'job_high qualif/self emp/mgmt', 'job_skilled',\n",
       "       'job_unemp/unskilled non res', 'job_unskilled resident',\n",
       "       'own_telephone_none', 'own_telephone_yes'],\n",
       "      dtype='object')"
      ]
     },
     "execution_count": 17,
     "metadata": {},
     "output_type": "execute_result"
    }
   ],
   "source": [
    "df.columns"
   ]
  },
  {
   "cell_type": "markdown",
   "id": "BrwhvERWDe_N",
   "metadata": {
    "id": "BrwhvERWDe_N"
   },
   "source": [
    "## Stage2c. Exploratory Data Analysis\n",
    "\n",
    "Once we have loaded the data and have it in a useable form, we now need to examine it, to build an intuition for the distributions, accuracy, missing values, imbalances and so on.\n",
    "\n",
    "One major bias, particularly when we are fitting a model to a relatively low probability event, such as a default, are imbalances in the data. By definition our target occurs less than half the time.\n",
    "\n",
    "#### Bias Alert: Imbalanced dataset\n",
    "\n",
    "Imbalances in datasets for classification problems are a big issue. We generally need to balance the dataset to contain an equal proportion of the different classes before training (and testing). For the credit use-case, we have two classes {1,0}, meaning that ideally 50% of our samples should be class=1; and 50% class=0. If this is not the case and we have an imbalance (we do), we can balance the data by up-sampling the minority class, or down-sampling the majority class.\n",
    "Let us first examine the dataset to determine whether it is in balance."
   ]
  },
  {
   "cell_type": "markdown",
   "id": "1fd02130",
   "metadata": {
    "id": "1fd02130"
   },
   "source": []
  },
  {
   "cell_type": "code",
   "execution_count": 449,
   "id": "9d772e1c",
   "metadata": {
    "colab": {
     "base_uri": "https://localhost:8080/",
     "height": 0
    },
    "id": "9d772e1c",
    "outputId": "2338ef5f-f50a-4c9c-f412-005d7fb84f51"
   },
   "outputs": [
    {
     "name": "stdout",
     "output_type": "stream",
     "text": [
      "Imbalanced dataset....\n",
      "0    700\n",
      "1    300\n",
      "Name: class, dtype: int64\n"
     ]
    },
    {
     "data": {
      "image/png": "[encoded data removed]",
      "text/plain": [
       "<Figure size 432x288 with 1 Axes>"
      ]
     },
     "metadata": {},
     "output_type": "display_data"
    }
   ],
   "source": [
    "\n",
    "#Pie chart of imbalances wrapped as a func as we will use it a few times..\n",
    "def pie_of_imbalance(df: pd.DataFrame, class_col: str = 'class'):\n",
    "    print('Imbalanced dataset....')\n",
    "    print(df[class_col].value_counts())\n",
    "    df.groupby(class_col).size().plot(kind='pie', y = 'class', label = \"Type\",  autopct='%1.1f%%')\n",
    "    \n",
    "#run func\n",
    "pie_of_imbalance(df)"
   ]
  },
  {
   "cell_type": "markdown",
   "id": "e0459bd5",
   "metadata": {
    "id": "e0459bd5"
   },
   "source": [
    "The dataset is not balanced. 70% of samples are class=0; only 30% are class=1. We should bring this into balance before we train our model, or risk introducing dangerous biases into our forecasts."
   ]
  },
  {
   "cell_type": "markdown",
   "id": "i9Vx9c_4sStE",
   "metadata": {
    "id": "i9Vx9c_4sStE"
   },
   "source": [
    "# Stage3: Model Design \n",
    "\n",
    "Now we need to take what we have learned about the data, and find an appropriate model to achieve our KPIs."
   ]
  },
  {
   "cell_type": "markdown",
   "id": "c0ubSKhBH-pg",
   "metadata": {
    "id": "c0ubSKhBH-pg"
   },
   "source": [
    "## Stage 3a: Test the performance of different up, and down sampling approaches"
   ]
  },
  {
   "cell_type": "markdown",
   "id": "e286323c",
   "metadata": {
    "id": "e286323c"
   },
   "source": [
    "Before we start up or down-sampling to correct the imbalance, we first we need to create our testing and training datasets. We can then balance the training set. This is to keep the training-set in-sample and the testing-set strictly out-of-sample. There is a risk of data leakage in this process we must consider and contriol for.\n",
    "\n",
    "#### Bias Alert: Data Leakage \n",
    "\n",
    "Separate training and testing datasets BEFORE balancing the dataset is crucial to avoid adta leakage. This is crucial as our learner must not see any of the test samples until we actually test it for performance. If we fail to separate testing and training data before up samplng, we can suffer data-snooping biases (also called data-leakage), which would invalidate our model."
   ]
  },
  {
   "cell_type": "code",
   "execution_count": 8,
   "id": "eTjDqiD5f_j1",
   "metadata": {
    "id": "eTjDqiD5f_j1"
   },
   "outputs": [],
   "source": [
    "from sklearn.model_selection import train_test_split"
   ]
  },
  {
   "cell_type": "code",
   "execution_count": 9,
   "id": "f9517124",
   "metadata": {
    "id": "f9517124"
   },
   "outputs": [],
   "source": [
    "# Define X and y variables\n",
    "cols  = list(df.columns)\n",
    "cols.remove('class')\n",
    "\n",
    "# Contains only numerics\n",
    "X = df[cols]\n",
    "y = df['class']\n",
    "\n",
    "#Test and train set    \n",
    "X_train, X_test, y_train, y_test = train_test_split(X, y, test_size=0.3, random_state=None)"
   ]
  },
  {
   "cell_type": "markdown",
   "id": "d3f79ba0",
   "metadata": {
    "id": "d3f79ba0"
   },
   "source": [
    "### Stage Test up and down sampling approaches using a Random Forest Classifier\n",
    "We will use the RandomForest classifier to help us test different up and down sampling approaches to deal with the imbalanced dataset. We will be able to see the relative performance of each balancing approach on our problem.\n",
    "\n",
    "First let us run the classifier on the imbalanced data and examine the F1 score that results when we test the model. (It is a very poor result)."
   ]
  },
  {
   "cell_type": "markdown",
   "id": "c02db5bb",
   "metadata": {
    "id": "c02db5bb"
   },
   "source": [
    "Get the sklearn packages we will need for our clasification problem"
   ]
  },
  {
   "cell_type": "code",
   "execution_count": 452,
   "id": "af12e96b",
   "metadata": {
    "id": "af12e96b"
   },
   "outputs": [],
   "source": [
    "import numpy as np\n",
    "\n",
    "from sklearn.preprocessing import StandardScaler\n",
    "\n",
    "# Classifiers\n",
    "from sklearn.ensemble import RandomForestClassifier\n",
    "\n",
    "# metrics...\n",
    "from sklearn.metrics import f1_score\n",
    "from sklearn.metrics import precision_score\n",
    "from sklearn.metrics import recall_score\n",
    "from sklearn.metrics import confusion_matrix"
   ]
  },
  {
   "cell_type": "markdown",
   "id": "c7484849",
   "metadata": {
    "id": "c7484849"
   },
   "source": [
    "We can wrap training for the Random Forest classifier, and the printing of performance metrics in a function, as we will be running this more than once."
   ]
  },
  {
   "cell_type": "code",
   "execution_count": 453,
   "id": "c09b7144",
   "metadata": {
    "colab": {
     "base_uri": "https://localhost:8080/",
     "height": 615
    },
    "id": "c09b7144",
    "outputId": "dc9bb255-dea7-44b6-917a-cbe877b2c0fe"
   },
   "outputs": [
    {
     "name": "stdout",
     "output_type": "stream",
     "text": [
      "<class 'sklearn.ensemble._forest.RandomForestClassifier'>\n",
      "Accuracy train: 0.8071, test:  0.7033\n",
      "Precision train: 0.7898, test:  0.7074\n",
      "Recall train: 0.9940, test:  0.9502\n",
      "F1 train: 0.5055, test:  0.3101\n"
     ]
    },
    {
     "data": {
      "image/png": "[encoded data removed]",
      "text/plain": [
       "<Figure size 432x288 with 2 Axes>"
      ]
     },
     "metadata": {
      "needs_background": "light"
     },
     "output_type": "display_data"
    },
    {
     "name": "stdout",
     "output_type": "stream",
     "text": [
      "Now use sklearns predict_proba to generate probability values for each prediction\n"
     ]
    },
    {
     "name": "stderr",
     "output_type": "stream",
     "text": [
      "X has feature names, but RandomForestClassifier was fitted without feature names\n"
     ]
    },
    {
     "data": {
      "text/plain": [
       "array([[0.68800386, 0.31199614],\n",
       "       [0.42447043, 0.57552957],\n",
       "       [0.47738312, 0.52261688],\n",
       "       [0.6730528 , 0.3269472 ],\n",
       "       [0.45821596, 0.54178404],\n",
       "       [0.45998571, 0.54001429],\n",
       "       [0.39251133, 0.60748867],\n",
       "       [0.46070031, 0.53929969],\n",
       "       [0.56381589, 0.43618411]])"
      ]
     },
     "execution_count": 453,
     "metadata": {},
     "output_type": "execute_result"
    }
   ],
   "source": [
    "# Declare a function to wrap training of a classifier and printing of performance data\n",
    "def run_rf_classification_models(X_train: pd.DataFrame, \n",
    "                              X_test: pd.DataFrame, \n",
    "                            y_train: pd.DataFrame, \n",
    "                            y_test: pd.DataFrame) -> object:\n",
    "    \n",
    "    #sanity\n",
    "    if X_train.shape[0] != y_train.shape[0]:\n",
    "      raise TypeError('Bad parameter: X_train.shape[0] != y_train.shape[0]')\n",
    "    if X_test.shape[0] != y_test.shape[0]:\n",
    "      raise TypeError('Bad parameter: X_train.shape[0] != y_train.shape[0]')\n",
    "    if (X_train.dtypes != X_test.dtypes).sum() != 0:\n",
    "      raise TypeError('Bad parameter: X_train.dtype != X_test.dtype')\n",
    "    if (y_train.dtypes != y_test.dtypes):\n",
    "      raise TypeError('Bad parameter: y_train.dtype != y_test.dtype')\n",
    "\n",
    "    # Scale and transform the data for training\n",
    "    sclr = StandardScaler()\n",
    "    sclr.fit(X_train) # scale to 0 mean and std dev 1 on training data\n",
    "\n",
    "    X_train = sclr.fit_transform(X_train) # scale both sets:\n",
    "    X_test = sclr.fit_transform(X_test)\n",
    "\n",
    "    # classifier train\n",
    "    rf = RandomForestClassifier(max_depth=5,random_state=0)\n",
    "    rf.fit(X_train,y_train)\n",
    "    y_train_hat =rf.predict(X_train)\n",
    "    y_test_hat = rf.predict(X_test)\n",
    "\n",
    "    # Print score\n",
    "    print(type(rf))        \n",
    "    print(f\"Accuracy train: {rf.score(X_train,y_train):.4f}, test: \",\n",
    "      f\"{rf.score(X_test,y_test):.4f}\")\n",
    "    print(f\"Precision train: {precision_score(y_train, y_train_hat, average=None)[0]:.4f}, test: \",\n",
    "      f\"{precision_score(y_test,y_test_hat, average=None)[0]:.4f}\")\n",
    "    print(f\"Recall train: {recall_score(y_train, y_train_hat, average=None)[0]:.4f}, test: \",\n",
    "      f\"{recall_score(y_test,y_test_hat, average=None)[0]:.4f}\")\n",
    "    print(f\"F1 train: {f1_score(y_train, y_train_hat, average=None)[1]:.4f}, test: \",\n",
    "      f\"{f1_score(y_test,y_test_hat, average=None)[1]:.4f}\")\n",
    "    \n",
    "    #Print confusion matrix...\n",
    "    cf_matrix = confusion_matrix(y_test, y_test_hat, labels=[0, 1]) \n",
    "    cf_matrix_norm = cf_matrix.astype('float') # / cf_matrix.sum(axis=1)[:, np.newaxis]\n",
    "\n",
    "    ax = sns.heatmap(cf_matrix_norm, annot=True, cmap='Blues', fmt='g')\n",
    "    ax.set_title('Confusion Matrix\\n\\n');\n",
    "    ax.set_xlabel('\\nPredicted Values')\n",
    "    ax.set_ylabel('Actual Values ');\n",
    "    plt.show()\n",
    "\n",
    "    #sanity\n",
    "    if rf is None:\n",
    "      raise TypeError('Bad return: rf is None')\n",
    "\n",
    "    return rf\n",
    "\n",
    "#run our classifier function\n",
    "mod = run_rf_classification_models(X_train, X_test, y_train, y_test)\n",
    "\n",
    "print('Now use sklearns predict_proba to generate probability values for each prediction')\n",
    "mod.predict_proba(X_test)[0:9,:]"
   ]
  },
  {
   "cell_type": "markdown",
   "id": "f8166fcf",
   "metadata": {
    "id": "f8166fcf"
   },
   "source": [
    "### 3a i) Upsampling using resampling"
   ]
  },
  {
   "cell_type": "markdown",
   "id": "a4ef22f5",
   "metadata": {
    "id": "a4ef22f5"
   },
   "source": [
    "First we test up-sampling using sklearn's resample, and examine how well it does using the RandomForest classifier. Resampling can up-sample by simply randomly selecting and copying existing observations of the minority class. We can balance the classes in this way."
   ]
  },
  {
   "cell_type": "code",
   "execution_count": 454,
   "id": "739e0d7d",
   "metadata": {
    "id": "739e0d7d"
   },
   "outputs": [],
   "source": [
    "from sklearn.utils import resample\n",
    "\n",
    "#Split first to avoid data-snooping\n",
    "X_train, X_test, y_train, y_test = train_test_split(X, y, test_size=0.3, random_state=None)\n",
    "\n",
    "# Create up-sampled data set for minority class\n",
    "# note that n_samples= the number of samples the imbalance represents.\n",
    "X_upsampled, y_upsampled = resample(X_train[y_train == 1],\n",
    "                                        y_train[y_train == 1],\n",
    "                                        replace=True,\n",
    "                                        n_samples=(X_train[y_train == 0].shape[0]-X_train[y_train == 1].shape[0]),\n",
    "                                        random_state=None)\n",
    "\n",
    "#Combine train with upsampled\n",
    "X_upsampled = X_train.append(X_upsampled)\n",
    "y_upsampled = y_train.append(y_upsampled)"
   ]
  },
  {
   "cell_type": "markdown",
   "id": "fc1e5726",
   "metadata": {
    "id": "fc1e5726"
   },
   "source": [
    "Let us check everything is in balance now"
   ]
  },
  {
   "cell_type": "code",
   "execution_count": 455,
   "id": "b8cb61d7",
   "metadata": {
    "colab": {
     "base_uri": "https://localhost:8080/",
     "height": 317
    },
    "id": "b8cb61d7",
    "outputId": "eb7b0fbd-d6f0-4a2f-a7b4-81ef92c397ce"
   },
   "outputs": [
    {
     "name": "stdout",
     "output_type": "stream",
     "text": [
      "Imbalanced dataset....\n",
      "0    488\n",
      "1    488\n",
      "Name: class, dtype: int64\n"
     ]
    },
    {
     "data": {
      "image/png": "[encoded data removed]",
      "text/plain": [
       "<Figure size 432x288 with 1 Axes>"
      ]
     },
     "metadata": {},
     "output_type": "display_data"
    }
   ],
   "source": [
    "#get pie of the current imbalance\n",
    "temp = pd.concat([X_upsampled, y_upsampled], axis=1)\n",
    "pie_of_imbalance(temp)"
   ]
  },
  {
   "cell_type": "markdown",
   "id": "53dea8e1",
   "metadata": {
    "id": "53dea8e1"
   },
   "source": [
    "Dataset is perfectly in balance..."
   ]
  },
  {
   "cell_type": "code",
   "execution_count": 456,
   "id": "5caebbb0",
   "metadata": {
    "colab": {
     "base_uri": "https://localhost:8080/",
     "height": 424
    },
    "id": "5caebbb0",
    "outputId": "bcdb6049-0779-4427-a04f-8a5f203aaefb"
   },
   "outputs": [
    {
     "name": "stdout",
     "output_type": "stream",
     "text": [
      "<class 'sklearn.ensemble._forest.RandomForestClassifier'>\n",
      "Accuracy train: 0.8412, test:  0.7067\n",
      "Precision train: 0.8776, test:  0.8563\n",
      "Recall train: 0.7930, test:  0.7028\n",
      "F1 train: 0.8485, test:  0.5888\n"
     ]
    },
    {
     "data": {
      "image/png": "[encoded data removed]",
      "text/plain": [
       "<Figure size 432x288 with 2 Axes>"
      ]
     },
     "metadata": {
      "needs_background": "light"
     },
     "output_type": "display_data"
    }
   ],
   "source": [
    "#Run our function....\n",
    "model = run_rf_classification_models(X_upsampled, X_test, y_upsampled, y_test)"
   ]
  },
  {
   "cell_type": "markdown",
   "id": "1b4afcc1",
   "metadata": {
    "id": "1b4afcc1"
   },
   "source": [
    "The F1 score on the test data has increased markedly."
   ]
  },
  {
   "cell_type": "markdown",
   "id": "e98b384e",
   "metadata": {
    "id": "e98b384e"
   },
   "source": [
    "### 3a ii) Up-sampling using a synthetic over sampling approach called SMOTE"
   ]
  },
  {
   "cell_type": "markdown",
   "id": "235505f6",
   "metadata": {
    "id": "235505f6"
   },
   "source": [
    "Add the libraries we will need... and generate the synthetic data to balance our classes using SMOTE."
   ]
  },
  {
   "cell_type": "code",
   "execution_count": 22,
   "id": "5dadf40d",
   "metadata": {
    "id": "5dadf40d"
   },
   "outputs": [],
   "source": [
    "from imblearn.over_sampling import SMOTE\n",
    "\n",
    "#How many samples do we need to balance?\n",
    "idx = np.random.choice(X_train.shape[0], size=X_train[y_train == 0].shape[0]-X_train[y_train == 1].shape[0], replace=False)\n",
    "\n",
    "# Generate SMOTE samples and use this to train\n",
    "upsampler_smote = SMOTE()\n",
    "X_upsampled_smote, y_upsampled_smote = upsampler_smote.fit_resample(X=X_train, y=y_train)"
   ]
  },
  {
   "cell_type": "markdown",
   "id": "4a14d264",
   "metadata": {
    "id": "4a14d264"
   },
   "source": [
    "Before we use the up-sampled dataset to train our classifier, let us first examine the distribution of the synthetic datapoints that SMOTE creates"
   ]
  },
  {
   "cell_type": "code",
   "execution_count": 458,
   "id": "4ff54d69",
   "metadata": {
    "colab": {
     "base_uri": "https://localhost:8080/",
     "height": 0
    },
    "id": "4ff54d69",
    "outputId": "9fcc6bbd-220f-4769-ce83-7f872bb1f135"
   },
   "outputs": [
    {
     "data": {
      "image/png": "[encoded data removed]",
      "text/plain": [
       "<Figure size 720x504 with 1 Axes>"
      ]
     },
     "metadata": {
      "needs_background": "light"
     },
     "output_type": "display_data"
    }
   ],
   "source": [
    "from matplotlib import pyplot as plt\n",
    "from mpl_toolkits.mplot3d import Axes3D\n",
    "\n",
    "\n",
    "fig = plt.figure(figsize=(10, 7)) \n",
    "ax = fig.add_subplot(111, projection='3d')\n",
    "\n",
    "ax.scatter(X_train['credit_amount'],X_train['age'], X_train['duration'], marker=\"o\", s=10, c='blue', label='Real datapoints')\n",
    "ax.scatter(X_upsampled_smote['credit_amount'],X_upsampled_smote['age'], X_upsampled_smote['duration'], marker=\"+\", s=50, c='red', label='SMOTE datapoints')\n",
    "\n",
    "# set axes range\n",
    "plt.xlim(-500, 11000)\n",
    "plt.ylim(0, 60)\n",
    "\n",
    "ax.set_xlabel('credit_amount')\n",
    "ax.set_ylabel('age')\n",
    "ax.set_zlabel('duration')\n",
    "\n",
    "plt.title('How SMOTE Samples are Distributed vs Real Data Points')\n",
    "plt.legend(loc=1,framealpha=1, fontsize=8)\n",
    "plt.show()"
   ]
  },
  {
   "cell_type": "markdown",
   "id": "a875103b",
   "metadata": {
    "id": "a875103b"
   },
   "source": [
    "The synthetic datapoints look realistic at a glance."
   ]
  },
  {
   "cell_type": "code",
   "execution_count": 459,
   "id": "c031433f",
   "metadata": {
    "colab": {
     "base_uri": "https://localhost:8080/",
     "height": 0
    },
    "id": "c031433f",
    "outputId": "261717d7-1f01-438c-8b67-ba74d034d9b9"
   },
   "outputs": [
    {
     "name": "stdout",
     "output_type": "stream",
     "text": [
      "Imbalanced dataset....\n",
      "0    488\n",
      "1    488\n",
      "Name: class, dtype: int64\n"
     ]
    },
    {
     "data": {
      "image/png": "[encoded data removed]",
      "text/plain": [
       "<Figure size 432x288 with 1 Axes>"
      ]
     },
     "metadata": {},
     "output_type": "display_data"
    }
   ],
   "source": [
    "#get pie of the current imbalance\n",
    "temp = pd.concat([X_upsampled_smote, y_upsampled_smote], axis=1)\n",
    "pie_of_imbalance(temp)"
   ]
  },
  {
   "cell_type": "markdown",
   "id": "89d8fdc6",
   "metadata": {
    "id": "89d8fdc6"
   },
   "source": [
    "After up-sampling using SMOTE's synthetic data, the dataset is perfectly in balance... however we have a Fairness problem. Can you spot what it is?"
   ]
  },
  {
   "cell_type": "code",
   "execution_count": 460,
   "id": "750a6983",
   "metadata": {
    "colab": {
     "base_uri": "https://localhost:8080/",
     "height": 0
    },
    "id": "750a6983",
    "outputId": "6a66d4db-9d8f-4d28-895e-fdfbf368152c"
   },
   "outputs": [
    {
     "name": "stdout",
     "output_type": "stream",
     "text": [
      "<class 'sklearn.ensemble._forest.RandomForestClassifier'>\n",
      "Accuracy train: 0.8760, test:  0.7533\n",
      "Precision train: 0.8963, test:  0.8450\n",
      "Recall train: 0.8504, test:  0.7972\n",
      "F1 train: 0.8791, test:  0.6064\n"
     ]
    },
    {
     "data": {
      "image/png": "[encoded data removed]",
      "text/plain": [
       "<Figure size 432x288 with 2 Axes>"
      ]
     },
     "metadata": {
      "needs_background": "light"
     },
     "output_type": "display_data"
    }
   ],
   "source": [
    "#Run our function....\n",
    "model = run_rf_classification_models(X_upsampled_smote, X_test, y_upsampled_smote, y_test)"
   ]
  },
  {
   "cell_type": "markdown",
   "id": "30066c4b",
   "metadata": {
    "id": "30066c4b"
   },
   "source": [
    "#### Synthetic Data's Fairness Banana Skin - Data Leakage of protected characteristics\n",
    "\n",
    "Remember that we had two distinct groups we need to ensure fairness for, females and males? We just: generated synthetic data based off the entire dataset though - using both male and female samples - and in doing so we polluted the new rows we created with both male and female data characteristics. \n",
    "We therefore need to generate synthetic data for male rows and THEN generate synthetic data for female rows avoiding data leakage of protected characteristics."
   ]
  },
  {
   "cell_type": "code",
   "execution_count": 461,
   "id": "TTAnktvT73Ql",
   "metadata": {
    "id": "TTAnktvT73Ql"
   },
   "outputs": [],
   "source": [
    "\n",
    "from imblearn.over_sampling import SMOTE\n",
    "\n",
    "# Generate SMOTE samples and use this to train... do for each protected class \n",
    "# separately and THEN combine.\n",
    "upsampler_smote = SMOTE()\n",
    "\n",
    "\n",
    "#** First add back the gender column as after the train_test_split we want to know which row is which.\n",
    "#\n",
    "X_gender = pd.concat([X, df_raw['gender']], axis=1)\n",
    "y_gender = pd.concat([y, df_raw['gender']], axis=1)\n",
    "\n",
    "#Split first to avoid data-snooping\n",
    "X_train, X_test, y_train, y_test = train_test_split(X_gender, y_gender, test_size=0.3, random_state=None)\n",
    "\n",
    "# GENDER: FIRST we generate synthetic samples for females, where all these synthetic \n",
    "# samples will be exclusively generated from female instances.\n",
    "X_train_female = X_train[(X_train['gender'] == 'female')]\n",
    "X_train_female = X_train_female.drop('gender', axis=1)\n",
    "#\n",
    "y_train_female = y_train[(y_train['gender'] == 'female')]\n",
    "y_train_female = y_train_female.drop('gender', axis=1)\n",
    "\n",
    "X_upsampled_smote_female, y_upsampled_smote_female = upsampler_smote.fit_resample(X=X_train_female, y=y_train_female)\n",
    "\n",
    "#GENDER: SECOND males...where all these synethic \n",
    "# samples will be exclusively generaqted from male instances.\n",
    "X_train_male = X_train[(X_train['gender'] == 'male')]\n",
    "X_train_male = X_train_male.drop('gender', axis=1)\n",
    "#\n",
    "y_train_male = y_train[(y_train['gender'] == 'male')]\n",
    "y_train_male = y_train_male.drop('gender', axis=1)\n",
    "\n",
    "X_upsampled_smote_male, y_upsampled_smote_male = upsampler_smote.fit_resample(X=X_train_male, y=y_train_male)\n",
    "\n",
    "#** Now remove the gender column...\n",
    "X_train = X_train.drop('gender', axis=1)\n",
    "y_train = y_train.drop('gender', axis=1)\n",
    "\n",
    "# Combine male and female training data, including the SMOTE data\n",
    "X_upsampled_smote = pd.concat([X_upsampled_smote_female, X_upsampled_smote_male], axis=0) # Note the axis is set to zero, so we are adding rows the bottom of the df\n",
    "y_upsampled_smote = pd.concat([y_upsampled_smote_female, y_upsampled_smote_male], axis=0)"
   ]
  },
  {
   "cell_type": "markdown",
   "id": "ByQ3478C7nXx",
   "metadata": {
    "id": "ByQ3478C7nXx"
   },
   "source": [
    "Combine the male and female upsampled data..."
   ]
  },
  {
   "cell_type": "code",
   "execution_count": 462,
   "id": "vNHwc1QP7wCb",
   "metadata": {
    "id": "vNHwc1QP7wCb"
   },
   "outputs": [],
   "source": [
    "X_upsampled_smote = X_upsampled_smote_female + X_upsampled_smote_male\n",
    "y_upsampled_smote = y_upsampled_smote_female + y_upsampled_smote_male"
   ]
  },
  {
   "cell_type": "code",
   "execution_count": 463,
   "id": "GuXSRiAd7n95",
   "metadata": {
    "colab": {
     "base_uri": "https://localhost:8080/",
     "height": 0
    },
    "id": "GuXSRiAd7n95",
    "outputId": "509a6cd8-719d-4f34-92d0-2c2066c3c57f"
   },
   "outputs": [
    {
     "name": "stdout",
     "output_type": "stream",
     "text": [
      "Imbalanced dataset....\n",
      "1.0    137\n",
      "0.0    103\n",
      "2.0     32\n",
      "Name: class, dtype: int64\n"
     ]
    },
    {
     "data": {
      "image/png": "[encoded data removed]",
      "text/plain": [
       "<Figure size 432x288 with 1 Axes>"
      ]
     },
     "metadata": {},
     "output_type": "display_data"
    }
   ],
   "source": [
    "#get pie of the current imbalance\n",
    "temp = pd.concat([X_upsampled_smote, y_upsampled_smote], axis=1)\n",
    "pie_of_imbalance(temp)"
   ]
  },
  {
   "cell_type": "markdown",
   "id": "kHUCz-3ksp6r",
   "metadata": {
    "id": "kHUCz-3ksp6r"
   },
   "source": [
    "### 3a iii) Down-sampling - Removing rows to balance the classes"
   ]
  },
  {
   "cell_type": "markdown",
   "id": "0a94d7e4",
   "metadata": {
    "id": "0a94d7e4"
   },
   "source": [
    "Now we can test down-sampling, which is simply removing samples from the majority class. "
   ]
  },
  {
   "cell_type": "code",
   "execution_count": 464,
   "id": "8dbc9854",
   "metadata": {
    "id": "8dbc9854"
   },
   "outputs": [],
   "source": [
    "from imblearn.under_sampling import RandomUnderSampler \n",
    "\n",
    "#Split first to avoid data-snooping\n",
    "X_train, X_test, y_train, y_test = train_test_split(X, y, test_size=0.3, random_state=None)\n",
    "\n",
    "# Randomly downsample rows in the majority class\n",
    "rus = RandomUnderSampler(random_state=42)\n",
    "X_downsampled, y_downsampled = rus.fit_resample(X_train, y_train)"
   ]
  },
  {
   "cell_type": "code",
   "execution_count": 464,
   "id": "dk5pDaJUsO1k",
   "metadata": {
    "id": "dk5pDaJUsO1k"
   },
   "outputs": [],
   "source": []
  },
  {
   "cell_type": "code",
   "execution_count": 465,
   "id": "c0beacf7",
   "metadata": {
    "colab": {
     "base_uri": "https://localhost:8080/",
     "height": 317
    },
    "id": "c0beacf7",
    "outputId": "e217d933-e7b4-450a-b03e-64c9dffa9514"
   },
   "outputs": [
    {
     "name": "stdout",
     "output_type": "stream",
     "text": [
      "Imbalanced dataset....\n",
      "0    222\n",
      "1    222\n",
      "Name: class, dtype: int64\n"
     ]
    },
    {
     "data": {
      "image/png": "[encoded data removed]",
      "text/plain": [
       "<Figure size 432x288 with 1 Axes>"
      ]
     },
     "metadata": {},
     "output_type": "display_data"
    }
   ],
   "source": [
    "#get pie of the current imbalance\n",
    "temp = pd.concat([X_downsampled, y_downsampled], axis=1)\n",
    "pie_of_imbalance(temp)"
   ]
  },
  {
   "cell_type": "code",
   "execution_count": 466,
   "id": "d6de0276",
   "metadata": {
    "colab": {
     "base_uri": "https://localhost:8080/",
     "height": 424
    },
    "id": "d6de0276",
    "outputId": "76d34318-98ba-491d-b7f3-ffc45dcda5e0"
   },
   "outputs": [
    {
     "name": "stdout",
     "output_type": "stream",
     "text": [
      "<class 'sklearn.ensemble._forest.RandomForestClassifier'>\n",
      "Accuracy train: 0.8423, test:  0.6600\n",
      "Precision train: 0.8654, test:  0.8846\n",
      "Recall train: 0.8108, test:  0.6216\n",
      "F1 train: 0.8472, test:  0.5405\n"
     ]
    },
    {
     "data": {
      "image/png": "[encoded data removed]",
      "text/plain": [
       "<Figure size 432x288 with 2 Axes>"
      ]
     },
     "metadata": {
      "needs_background": "light"
     },
     "output_type": "display_data"
    }
   ],
   "source": [
    "#Run our function....\n",
    "model = run_rf_classification_models(X_downsampled, X_test, y_downsampled, y_test)"
   ]
  },
  {
   "cell_type": "markdown",
   "id": "5e6ea491",
   "metadata": {
    "id": "5e6ea491"
   },
   "source": [
    "As we can see, all up and down sampling approaches have outperformed the F1 Score on the imbalanced data. The most impressive performance in this case is from up-sampling using SMOTE synthetic data."
   ]
  },
  {
   "cell_type": "markdown",
   "id": "66bfe3c2",
   "metadata": {
    "id": "66bfe3c2"
   },
   "source": [
    "## Stage 4b: Model Selection\n",
    "\n",
    "\n",
    "Next we need to select the type of classifier we are going to use to model our problem and separate good from bad credits. We could just make a heuristic selection, but we are likely to be biased in making this selection. \n",
    "\n",
    "#### Bias Alert: Availability Heuristic\n",
    "For instance,  is our quant team overpopulated by linear regression experts? Do we have a greater level of familiarity for Random Forest classifiers?\n",
    "\n",
    "One way of dealing with this is to use of develop a model selection approach. We can test the problem, using many different classsifiers and assess the performance of exach based on our KPIs. However, we must be careful as even this more exhaustive approach is also open to biases. For instance if we are selection models based on p-values, we would suffer from multiplicity bias where testing multiple approaches would exaggerate the significance of a success. \n",
    "\n",
    "#### Bias Alert: Multiplicity bias\n",
    "\n",
    "To control for this we would use a measure such as F1-score, and we would test this on test samples not used for training.\n",
    "\n"
   ]
  },
  {
   "cell_type": "code",
   "execution_count": 18,
   "id": "tUbobdmKR9Or",
   "metadata": {
    "id": "tUbobdmKR9Or"
   },
   "outputs": [],
   "source": [
    "#Test and train set    \n",
    "X_train_cv, X_cv, y_train_cv, y_cv = train_test_split(X_train, y_train, test_size=0.3, random_state=None)"
   ]
  },
  {
   "cell_type": "markdown",
   "id": "5SUdXN-jhrza",
   "metadata": {
    "id": "5SUdXN-jhrza"
   },
   "source": [
    "Sklean provides many different classifiers and we will be testing a wide range to determine their accuracy on our problem."
   ]
  },
  {
   "cell_type": "code",
   "execution_count": 19,
   "id": "G3Dro5K_QkgZ",
   "metadata": {
    "id": "G3Dro5K_QkgZ"
   },
   "outputs": [],
   "source": [
    "from sklearn.preprocessing import StandardScaler\n",
    "\n",
    "# Classsifiers from sklearn\n",
    "from sklearn.linear_model import LogisticRegression \n",
    "from sklearn.naive_bayes import GaussianNB\n",
    "from sklearn.neural_network import MLPClassifier \n",
    "from sklearn.ensemble import RandomForestClassifier, AdaBoostClassifier, GradientBoostingClassifier\n",
    "from sklearn.tree import DecisionTreeClassifier\n",
    "from sklearn.discriminant_analysis import LinearDiscriminantAnalysis\n",
    "from sklearn.discriminant_analysis import QuadraticDiscriminantAnalysis\n",
    "from sklearn.svm import SVC, LinearSVC, NuSVC\n",
    "from sklearn.neighbors import KNeighborsClassifier\n",
    "\n",
    "# Performance metrics...\n",
    "from sklearn.metrics import f1_score\n",
    "from sklearn.metrics import precision_score\n",
    "from sklearn.metrics import recall_score"
   ]
  },
  {
   "cell_type": "markdown",
   "id": "JElvKh2qh75k",
   "metadata": {
    "id": "JElvKh2qh75k"
   },
   "source": [
    "To address the availability heuristic we will now build a function that tests a number of different classifiers on our problem, and the one with the best accuracy on the cross-validation data, we will select as the \"best\"."
   ]
  },
  {
   "cell_type": "code",
   "execution_count": 26,
   "id": "cyji4ydlQTVZ",
   "metadata": {
    "colab": {
     "base_uri": "https://localhost:8080/",
     "height": 892
    },
    "id": "cyji4ydlQTVZ",
    "outputId": "947ad768-22cc-4df4-d3be-bdf51611d5a8"
   },
   "outputs": [
    {
     "name": "stdout",
     "output_type": "stream",
     "text": [
      "DecisionTreeClassifier(max_depth=5)\n",
      "F1 train: 0.8549, cross-validation:  0.4898\n",
      "GaussianNB()\n",
      "F1 train: 0.8198, cross-validation:  0.2769\n",
      "LogisticRegression(max_iter=2000, random_state=0)\n",
      "F1 train: 0.8480, cross-validation:  0.4787\n",
      "MLPClassifier(early_stopping=True, max_iter=2000, random_state=1)\n",
      "F1 train: 0.6925, cross-validation:  0.5359\n",
      "RandomForestClassifier(max_depth=3, random_state=0)\n",
      "F1 train: 0.8166, cross-validation:  0.5294\n",
      "LinearDiscriminantAnalysis()\n",
      "F1 train: 0.8315, cross-validation:  0.4231\n",
      "QuadraticDiscriminantAnalysis()\n",
      "F1 train: 0.7170, cross-validation:  0.3908\n",
      "AdaBoostClassifier()\n",
      "F1 train: 0.8580, cross-validation:  0.0000\n"
     ]
    },
    {
     "name": "stderr",
     "output_type": "stream",
     "text": [
      "/Users/madhusudhann/opt/anaconda3/lib/python3.9/site-packages/sklearn/discriminant_analysis.py:878: UserWarning: Variables are collinear\n",
      "  warnings.warn(\"Variables are collinear\")\n",
      "/Users/madhusudhann/opt/anaconda3/lib/python3.9/site-packages/sklearn/neighbors/_classification.py:228: FutureWarning: Unlike other reduction functions (e.g. `skew`, `kurtosis`), the default behavior of `mode` typically preserves the axis it acts along. In SciPy 1.11.0, this behavior will change: the default value of `keepdims` will become False, the `axis` over which the statistic is taken will be eliminated, and the value None will no longer be accepted. Set `keepdims` to True or False to avoid this warning.\n",
      "  mode, _ = stats.mode(_y[neigh_ind, k], axis=1)\n"
     ]
    },
    {
     "name": "stdout",
     "output_type": "stream",
     "text": [
      "GradientBoostingClassifier()\n",
      "F1 train: 0.9469, cross-validation:  0.0370\n",
      "KNeighborsClassifier(n_neighbors=3)\n",
      "F1 train: 0.8282, cross-validation:  0.0000\n"
     ]
    },
    {
     "name": "stderr",
     "output_type": "stream",
     "text": [
      "/Users/madhusudhann/opt/anaconda3/lib/python3.9/site-packages/sklearn/neighbors/_classification.py:228: FutureWarning: Unlike other reduction functions (e.g. `skew`, `kurtosis`), the default behavior of `mode` typically preserves the axis it acts along. In SciPy 1.11.0, this behavior will change: the default value of `keepdims` will become False, the `axis` over which the statistic is taken will be eliminated, and the value None will no longer be accepted. Set `keepdims` to True or False to avoid this warning.\n",
      "  mode, _ = stats.mode(_y[neigh_ind, k], axis=1)\n"
     ]
    },
    {
     "name": "stdout",
     "output_type": "stream",
     "text": [
      "SVC(C=0.025, probability=True)\n",
      "F1 train: 0.3721, cross-validation:  0.0000\n",
      "NuSVC(probability=True)\n",
      "F1 train: 0.4348, cross-validation:  0.3908\n",
      "\n",
      "Winner\n",
      " <class 'sklearn.neural_network._multilayer_perceptron.MLPClassifier'>\n",
      "Accuracy train: 0.7632, cross-validation:  0.6619\n",
      "Precision train: 0.7022, cross-validation:  0.9074\n",
      "Recall train: 0.5618, cross-validation:  0.6164\n",
      "F1 train: 0.6925, cross-validation:  0.5359\n"
     ]
    },
    {
     "data": {
      "image/png": "[encoded data removed]",
      "text/plain": [
       "<Figure size 640x480 with 2 Axes>"
      ]
     },
     "metadata": {},
     "output_type": "display_data"
    }
   ],
   "source": [
    "\n",
    "# Func to wrap up running these selected classification learners...\n",
    "# NOTE: to test the performance of the learners out-of-sample, we should use a cross-validation dataset\n",
    "# this is a hold back dataset and we will use our testing data to do this, in this case. \n",
    "def auto_classifier_selection(X_train: pd.DataFrame, \n",
    "                            X_cross_validation: pd.DataFrame, \n",
    "                            y_train: pd.DataFrame, \n",
    "                            y_cross_validation: pd.DataFrame) -> (object, list, list, list):\n",
    "    \n",
    "    #sanity\n",
    "    if X_train.shape[0] != y_train.shape[0]:\n",
    "      raise TypeError('Bad parameter: X_train.shape[0] != y_train.shape[0]')\n",
    "    if X_cross_validation.shape[0] != y_cross_validation.shape[0]:\n",
    "      raise TypeError('Bad parameter: X_train.shape[0] != y_train.shape[0]')\n",
    "    if (X_train.dtypes != X_cross_validation.dtypes).sum() != 0:\n",
    "      raise TypeError('Bad parameter: X_train.dtype != X_cross_validation.dtype')\n",
    "    if (y_train.dtypes != y_cross_validation.dtypes):\n",
    "      raise TypeError('Bad parameter: y_train.dtype != y_cross_validation.dtype')\n",
    "\n",
    "    #Balance training data....\n",
    "    # Generate SMOTE samples and use this to train\n",
    "    upsampler_smote = SMOTE()\n",
    "    X_upsampled_smote, y_upsampled_smote = upsampler_smote.fit_resample(X_train.values, y_train.values)\n",
    "\n",
    "    sclr = StandardScaler()\n",
    "    sclr.fit(X_train.values) # scale to 0 mean and std dev 1 on training data\n",
    "\n",
    "    X_train = sclr.fit_transform(X_upsampled_smote) # scale both sets:\n",
    "    X_cross_validation = sclr.fit_transform(X_cross_validation)\n",
    "    \n",
    "    # These are the classifiers we will select from...\n",
    "    dtc = DecisionTreeClassifier(max_depth=5) #If we allow endless depth we overfit\n",
    "    gnb = GaussianNB()\n",
    "    lr = LogisticRegression(max_iter=2000,random_state=0)\n",
    "    mlp = MLPClassifier(max_iter=2000,random_state=1, early_stopping=True) # MLP will tend to overfit unless we stop early   \n",
    "    rf = RandomForestClassifier(max_depth=3,random_state=0) # << artibitrary parameters, consider hyper parameter tuning.\n",
    "    lda = LinearDiscriminantAnalysis()\n",
    "    qda = QuadraticDiscriminantAnalysis()\n",
    "    ada = AdaBoostClassifier()\n",
    "    gbc = GradientBoostingClassifier()\n",
    "    knn = KNeighborsClassifier(n_neighbors=3) # << artibitrary parameters, consider hyper parameter tuning.\n",
    "    svc = SVC(kernel=\"rbf\", C=0.025, probability=True) # << artibitrary parameters, consider hyper parameter tuning.\n",
    "    nsvc = NuSVC(probability=True)\n",
    "    \n",
    "    all_mdls = [dtc, gnb, lr, mlp, rf, lda, qda, ada, gbc, knn, svc, nsvc]\n",
    "    all_mdls_desc = ['dtc', 'gnb', 'lr', 'mlp', 'rf', 'lda', 'qda', 'ada', 'gbc', 'knn', 'svc', 'nsvc']\n",
    "    all_mdls_F1score = []\n",
    "    \n",
    "    # Loop through each classifer and record the \"best\"...\n",
    "    max_f1 = 0\n",
    "    for mdl in all_mdls:\n",
    "        #Fit model\n",
    "        mdl.fit(X_upsampled_smote,y_upsampled_smote)  \n",
    "        y_train_hat = mdl.predict(X_upsampled_smote)\n",
    "        y_cross_validation_hat = mdl.predict(X_cross_validation)       \n",
    "        mdl.predict_proba(X_cross_validation)\n",
    "\n",
    "        # Output model selection information....\n",
    "        print(mdl)\n",
    "        print(f\"F1 train: {f1_score(y_upsampled_smote, y_train_hat, average=None)[1]:.4f}, cross-validation: \",\n",
    "        f\"{f1_score(y_cross_validation,y_cross_validation_hat, average=None)[1]:.4f}\")\n",
    "  \n",
    "        # Selection based on cross-validation set, ie out of sample data not used in training\n",
    "        this_cv_f1 = f1_score(y_cross_validation,y_cross_validation_hat, average=None)[1]\n",
    "        if this_cv_f1 > max_f1:\n",
    "            max_f1 = this_cv_f1\n",
    "            max_mdl = mdl\n",
    "        \n",
    "        #Save the F1 score of this model...\n",
    "        all_mdls_F1score.append(this_cv_f1)\n",
    "\n",
    "    # The best....\n",
    "    #Fit...\n",
    "    max_mdl.fit(X_upsampled_smote,y_upsampled_smote)\n",
    "    y_train_hat = max_mdl.predict(X_upsampled_smote)\n",
    "    y_cross_validation_hat = max_mdl.predict(X_cross_validation)\n",
    "    \n",
    "    #    Print score\n",
    "    print('\\nWinner\\n', type(max_mdl))        \n",
    "    print(f\"Accuracy train: {max_mdl.score(X_train,y_upsampled_smote):.4f}, cross-validation: \",\n",
    "      f\"{max_mdl.score(X_cross_validation,y_cross_validation):.4f}\")\n",
    "    print(f\"Precision train: {precision_score(y_upsampled_smote, y_train_hat, average=None)[0]:.4f}, cross-validation: \",\n",
    "      f\"{precision_score(y_cross_validation,y_cross_validation_hat, average=None)[0]:.4f}\")\n",
    "    print(f\"Recall train: {recall_score(y_upsampled_smote, y_train_hat, average=None)[0]:.4f}, cross-validation: \",\n",
    "      f\"{recall_score(y_cross_validation,y_cross_validation_hat, average=None)[0]:.4f}\")\n",
    "    print(f\"F1 train: {f1_score(y_upsampled_smote, y_train_hat, average=None)[1]:.4f}, cross-validation: \",\n",
    "      f\"{f1_score(y_cross_validation,y_cross_validation_hat, average=None)[1]:.4f}\")\n",
    "        \n",
    "    #Print confusion matrix...\n",
    "    cf_matrix = confusion_matrix(y_cross_validation, y_cross_validation_hat, labels=[0, 1]) \n",
    "    cf_matrix_norm = cf_matrix.astype('float')\n",
    "\n",
    "    ax = sns.heatmap(cf_matrix_norm, annot=True, cmap='Blues', fmt='g')\n",
    "    ax.set_title('Confusion Matrix\\n\\n');\n",
    "    ax.set_xlabel('\\nPredicted Values')\n",
    "    ax.set_ylabel('Actual Values ');\n",
    "    plt.show()\n",
    "    \n",
    "    #sanity\n",
    "    if max_mdl is None:\n",
    "      raise TypeError('Bad return: max_mdl is None')\n",
    "\n",
    "    return max_mdl, all_mdls, all_mdls_desc, all_mdls_F1score\n",
    "\n",
    "# Run our function....autoselect the best classifier wrt F1\n",
    "max_mdl, all_models, all_models_desc, all_mdls_F1score = auto_classifier_selection(X_train_cv, X_cv, y_train_cv, y_cv)\n"
   ]
  },
  {
   "cell_type": "markdown",
   "id": "OHdKdhL6MF42",
   "metadata": {
    "id": "OHdKdhL6MF42"
   },
   "source": [
    "The output from our model selection function shows how each classifier performed on the training and cross-validation datasets. We can now test the \"winning classifier\" on our test data to ensure the cross-validation tests were effective in selecting a good performance out of sample."
   ]
  },
  {
   "cell_type": "code",
   "execution_count": 470,
   "id": "BuJjXTsYMbBs",
   "metadata": {
    "colab": {
     "base_uri": "https://localhost:8080/",
     "height": 630
    },
    "id": "BuJjXTsYMbBs",
    "outputId": "99eec020-f82c-4c76-e481-7aef255c6d26"
   },
   "outputs": [
    {
     "name": "stdout",
     "output_type": "stream",
     "text": [
      "0.4636363636363636\n"
     ]
    },
    {
     "name": "stderr",
     "output_type": "stream",
     "text": [
      "Function plot_roc_curve is deprecated; Function :func:`plot_roc_curve` is deprecated in 1.0 and will be removed in 1.2. Use one of the class methods: :meth:`sklearn.metric.RocCurveDisplay.from_predictions` or :meth:`sklearn.metric.RocCurveDisplay.from_estimator`.\n",
      "X has feature names, but RandomForestClassifier was fitted without feature names\n"
     ]
    },
    {
     "data": {
      "image/png": "[encoded data removed]",
      "text/plain": [
       "<Figure size 432x288 with 1 Axes>"
      ]
     },
     "metadata": {
      "needs_background": "light"
     },
     "output_type": "display_data"
    },
    {
     "data": {
      "image/png": "[encoded data removed]",
      "text/plain": [
       "<Figure size 432x288 with 1 Axes>"
      ]
     },
     "metadata": {
      "needs_background": "light"
     },
     "output_type": "display_data"
    },
    {
     "name": "stdout",
     "output_type": "stream",
     "text": [
      "0.5425531914893617 0.4636363636363636 0.6538461538461539\n"
     ]
    }
   ],
   "source": [
    "# Predict\n",
    "y_test_hat = max_mdl.predict(X_test.values)\n",
    "\n",
    "# Analyst KPI...\n",
    "f1, prec, rec = kpi_review_analyst(mdl=max_mdl,X=X_test, y=y_test[:], y_hat=y_test_hat[:])\n",
    "print(f1, prec, rec)"
   ]
  },
  {
   "cell_type": "markdown",
   "id": "RM6iBjWd_yEn",
   "metadata": {
    "id": "RM6iBjWd_yEn"
   },
   "source": [
    "#### Bias Alert: Inductive bias\n",
    "\n",
    "Even in the case where we select the most appropriate model, we may still be exposed to inductive biases. Each learner has a specific way that will approximate the function we are attempting to approximate, in this cadse the function of credit quality based on the characteristics of borrowers. Decision Trees, for instance, have inductive biases associated with greedy separation, whereas Random Forests (RF) mitigate this bias by using many randomized decision trees, but in turn introduce (lesser) inductive biases associated with the way an RF's underlying decision trees are contructed. One mitigant is to ensemble different learners, using a soft-max function or a voting approach. For voting based ensembling we would simply run a number of classifiers, take the majority answer: good/bad credit. (Note that we have included \n"
   ]
  },
  {
   "cell_type": "code",
   "execution_count": 472,
   "id": "xjkMTtAW22C6",
   "metadata": {
    "colab": {
     "base_uri": "https://localhost:8080/",
     "height": 735
    },
    "id": "xjkMTtAW22C6",
    "outputId": "aaf564b6-bcb2-4939-e365-b8348a18803b"
   },
   "outputs": [
    {
     "name": "stderr",
     "output_type": "stream",
     "text": [
      "Variables are collinear\n",
      "Function plot_roc_curve is deprecated; Function :func:`plot_roc_curve` is deprecated in 1.0 and will be removed in 1.2. Use one of the class methods: :meth:`sklearn.metric.RocCurveDisplay.from_predictions` or :meth:`sklearn.metric.RocCurveDisplay.from_estimator`.\n",
      "X has feature names, but LogisticRegression was fitted without feature names\n",
      "X has feature names, but MLPClassifier was fitted without feature names\n",
      "X has feature names, but RandomForestClassifier was fitted without feature names\n",
      "X has feature names, but LinearDiscriminantAnalysis was fitted without feature names\n",
      "X has feature names, but QuadraticDiscriminantAnalysis was fitted without feature names\n",
      "X has feature names, but NuSVC was fitted without feature names\n"
     ]
    },
    {
     "name": "stdout",
     "output_type": "stream",
     "text": [
      "0.4636363636363636\n"
     ]
    },
    {
     "data": {
      "image/png": "[encoded data removed]",
      "text/plain": [
       "<Figure size 432x288 with 1 Axes>"
      ]
     },
     "metadata": {
      "needs_background": "light"
     },
     "output_type": "display_data"
    },
    {
     "data": {
      "image/png": "[encoded data removed]",
      "text/plain": [
       "<Figure size 432x288 with 1 Axes>"
      ]
     },
     "metadata": {
      "needs_background": "light"
     },
     "output_type": "display_data"
    },
    {
     "name": "stdout",
     "output_type": "stream",
     "text": [
      "0.5425531914893617 0.4636363636363636 0.6538461538461539\n"
     ]
    }
   ],
   "source": [
    "from sklearn.ensemble import VotingClassifier\n",
    "\n",
    "# Address model inductive biases by ensembling\n",
    "def run_classifier_ensemble(all_mdls: list, \n",
    "                        all_mdls_desc: list, \n",
    "                        all_mdls_F1score: list,\n",
    "                        X: np.array,\n",
    "                        y: np.array) -> np.array:\n",
    "\n",
    "  #Sanity\n",
    "  if  all_mdls.__len__() != all_mdls_desc.__len__():\n",
    "    raise TypeError('all_mdls.__len__() != all_mdls_desc.__len__()')\n",
    "  if  all_mdls.__len__() != all_mdls_F1score.__len__():\n",
    "    raise TypeError('all_mdls.__len__() != all_mdls_F1score.__len__()')\n",
    "  if X.shape[0] != y.shape[0]:\n",
    "    raise TypeError('X and y do not have the same length')\n",
    "  \n",
    "  # Only choose those models that had decent F12 score performance out of sample.\n",
    "  mdls_to_ensemble =[]\n",
    "  for i in range(0, all_models_desc.__len__()):\n",
    "    if all_mdls_F1score[i] > np.median(all_mdls_F1score):\n",
    "      mdls_to_ensemble.append((all_models_desc[i], all_models[i]))\n",
    "\n",
    "  # Instantiate ...\n",
    "  vc = VotingClassifier(estimators=mdls_to_ensemble, voting='soft')\n",
    "\n",
    "  # Fit on the training data to train your live model... \n",
    "  ens_mdl = vc.fit(X.values, y.values)\n",
    "\n",
    "  # Challenge! Return y_hat\n",
    "  return ens_mdl\n",
    "\n",
    "\n",
    "# Run the ensemble\n",
    "ens_mdl = run_classifier_ensemble(all_mdls=all_models,\n",
    "                        all_mdls_desc=all_models_desc,\n",
    "                        all_mdls_F1score=all_mdls_F1score,\n",
    "                        X=X_test,\n",
    "                        y=y_test[:])\n",
    "\n",
    "# Analyst KPI...\n",
    "f1, prec, rec = kpi_review_analyst(mdl=ens_mdl,X=X_test, y=y_test[:], y_hat=y_test_hat[:])\n",
    "print(f1, prec, rec)"
   ]
  },
  {
   "cell_type": "markdown",
   "id": "wfSaSlGfw66d",
   "metadata": {
    "id": "wfSaSlGfw66d"
   },
   "source": [
    "### DRAFT!!!! FAIRNESS FUNCTIONS Removing features correlated with protected characteristics"
   ]
  },
  {
   "cell_type": "markdown",
   "id": "cVV8YHYuwfRU",
   "metadata": {
    "id": "cVV8YHYuwfRU"
   },
   "source": [
    "Let us inspect the results between the \"fair\" model outcomes and the potentially biased...."
   ]
  },
  {
   "cell_type": "markdown",
   "id": "LvIWjJXQtAVd",
   "metadata": {
    "id": "LvIWjJXQtAVd"
   },
   "source": [
    "## Stage 4c: KPI Checks - Most importantly checks for.\n",
    "\n",
    "We noted at the outset that there was a bias between the protected characterisctis of gender, with male and female credits being different, and we removed this protected characteristic from the dataset to avoid this illegal bias in loan approval outcomes.\n",
    "\n",
    "Protected characteristics can be picked up (proxied) in other dataitems in more subtle ways though. For instance given that single parent households tend to disproportionately be led by a female adult, this may make 'num_dependents' a proxy for gender.\n",
    "\n",
    "It is important that we control for any possible protected biases, and one way of achieving this is to retrain our model using a mitigator, which trains by constraining the model weights to produce a balanced outcome between protected classes; male and female credits in this case."
   ]
  },
  {
   "cell_type": "markdown",
   "id": "SXogafeXHFQS",
   "metadata": {
    "id": "SXogafeXHFQS"
   },
   "source": [
    "@@@@@@@@@@@@@@@@@@@@@@@@@@@@@@@@@ \n",
    "@@@@@@@@@@@@@@@@@@@@@@@@@@@@@@@@@ \n",
    "@@@@@@@@@@@@@@@@@@@@@@@@@@@@@@@@@ \n",
    "Madhu... Fairness applied to the chosen model....\n",
    "@@@@@@@@@@@@@@@@@@@@@@@@@@@@@@@@@ \n",
    "@@@@@@@@@@@@@@@@@@@@@@@@@@@@@@@@@ \n",
    "@@@@@@@@@@@@@@@@@@@@@@@@@@@@@@@@@ "
   ]
  },
  {
   "cell_type": "markdown",
   "id": "a93fa472-1fef-495b-b889-6c16761d4b59",
   "metadata": {},
   "source": [
    "### Test For Fairness\n",
    "\n",
    "A simple way to test for Fairness, is to train a model with a set of data without the protected classes. Then predict outcomes using the model and a set of test data, specific for each of the population group to compare if the model outputs are indeed fair across various groups. While the fairness test focus on the results, unfairness can creep in at many different stages along the way and underlying issues can be obscured. The outcomes from these tests should be used to better examine the input data and the algorithm used for its biases that cause such outcomes.\n",
    "\n",
    "Here we assume that a RandomForestClassifier is used as the model, but that could be any model.  While the training data may not include any of the protected class variables, the test data should contain these columns.  The subsequent part of the code will filter the test data based on these population groups, run the model as many times, so that the confusion matrix metrics can be obtained for each of these population groups.\n",
    "\n",
    "#### Measuring Fairness\n",
    "In this example we will be reviewing Group Fairness - Group Fairness looks at whether a system performs similarly across different groups, such as male vs female. Any of the confusion matric metric (Precision, Recall, FDR etc) could be used to ensure that the model outcomes are not unfair to a specific population group. However, it is impossible for a model to be fair with regards to all these metrics of fairness simultaneously. So, based on the objective of the model and the consumers of the model output, picking an appropriate group fairness metric becomes important.  For example, in the case of credit approvals, the Recall measure has the most impact on consumers. \n",
    "\n"
   ]
  },
  {
   "cell_type": "code",
   "execution_count": 40,
   "id": "9363c363-39b2-472a-956f-3b2aad01f694",
   "metadata": {},
   "outputs": [],
   "source": [
    "#Added by Madhu\n",
    "#TEST FOR FAIRNESS\n",
    "#\n",
    "X_all = pd.concat([X, df_raw['gender']], axis=1)\n",
    "y_all = pd.concat([y, df_raw['gender']], axis=1)\n",
    "X_all[\"age_group\"] = X_all[\"age\"].apply(lambda x: \"Below 25\" if x<25 else (\"Above 60\" if x > 60 else \"25-60\"))\n",
    "y_all[\"age_group\"] = X_all[\"age\"].apply(lambda x: \"Below 25\" if x<25 else (\"Above 60\" if x > 60 else \"25-60\"))\n",
    "#Split first \n",
    "X_train, X_test, y_train, y_test = train_test_split(X_all, y_all, test_size=0.3, random_state=None)\n",
    "X_train = X_train.drop(['gender','age_group'],axis=1)\n",
    "y_train = y_train.drop(['gender','age_group'], axis=1)\n",
    "model = trainModel(X_train, y_train.values.ravel())"
   ]
  },
  {
   "cell_type": "markdown",
   "id": "13b9ae94-0ae2-4675-8374-e8a800e2a13c",
   "metadata": {},
   "source": [
    "#### Accuracy vs Fairness\n",
    "\n",
    "For classifiers such as this model, any model result past a predefined threshold would be considered an approval, n below the threshold would be a rejection of the credit application.  By adjusting the threshold values, the false positive / false negative outputs from the model can be managed.  One exercise to ensure fair models is to appropriately design a threshold value such that the model is most accurate and also most fair to all underlying population groups. It is normally seen that there is a trade-off between accuracy and fairness when using machine learning models to make policy decisions.\n",
    "\n",
    "The below code plots the Recall, Precision and FDR values from the test outputs, for different population groups: gender(**Male**/Female) and Age Group (Below 25/**25-60**/Above 60 age groups. In a fair model, each of the population group should not be more than 20% worse-off than the **majority** group. The plots display the range as between the two red lines. Any population group with a metric value outside the range between the red lines is impacted negatively by the model.  Adjusting the model parameters or \n",
    "\n",
    "Higher the recall values, the lower is the False Negatives.  Higher the precision values, the lower is False Positives.  A judgement call is neeeded to confirm if the false positives have more adverse impact or false negatives.  In case of credit approval process, for a loan applicant, false negatives should be minimized.  So recall is the more appropriate measure."
   ]
  },
  {
   "cell_type": "code",
   "execution_count": 60,
   "id": "5e2a9f09-9a19-49a2-adec-c509768bd272",
   "metadata": {},
   "outputs": [],
   "source": [
    "#Added by Madhu\n",
    "fairnessTestItems = [\"gender\", \"age_group\"]\n",
    "majorityCategories = [\"male\", \"25-60\"]\n",
    "compareMetrics = [\"Recall\", \"Precision\"]"
   ]
  },
  {
   "cell_type": "markdown",
   "id": "890c59f9-126f-403e-b750-b837b82e8de3",
   "metadata": {},
   "source": [
    "First we test for Fairness at a threshld of 0.8. The model metrics are all within range, however the model precision can be improved"
   ]
  },
  {
   "cell_type": "code",
   "execution_count": 61,
   "id": "07fddb45-47a5-46e5-9956-cc8fab765707",
   "metadata": {},
   "outputs": [
    {
     "data": {
      "image/png": "[encoded data removed]",
      "text/plain": [
       "<Figure size 640x480 with 4 Axes>"
      ]
     },
     "metadata": {},
     "output_type": "display_data"
    }
   ],
   "source": [
    "#Added by Madhu\n",
    "threshold = 0.8\n",
    "testForFairness(max_mdl, fairnessTestItems, majorityCategories, compareMetrics, threshold)\n"
   ]
  },
  {
   "cell_type": "code",
   "execution_count": 62,
   "id": "bcfae2f4-fd53-4322-a0b2-261ad86f0036",
   "metadata": {},
   "outputs": [
    {
     "name": "stderr",
     "output_type": "stream",
     "text": [
      "/var/folders/vt/y0s__sfn49j5x0l03d9y4ff80000gn/T/ipykernel_1050/3235079143.py:23: RuntimeWarning: invalid value encountered in long_scalars\n",
      "  npv = TN/(TN+FN)\n"
     ]
    },
    {
     "data": {
      "image/png": "[encoded data removed]",
      "text/plain": [
       "<Figure size 640x480 with 4 Axes>"
      ]
     },
     "metadata": {},
     "output_type": "display_data"
    }
   ],
   "source": [
    "threshold = 0.9\n",
    "testForFairness(max_mdl, fairnessTestItems, majorityCategories, compareMetrics, threshold)"
   ]
  },
  {
   "cell_type": "code",
   "execution_count": 63,
   "id": "8b0f0d6b-16e0-457f-888f-948a9ab97913",
   "metadata": {},
   "outputs": [
    {
     "data": {
      "image/png": "[encoded data removed]",
      "text/plain": [
       "<Figure size 640x480 with 4 Axes>"
      ]
     },
     "metadata": {},
     "output_type": "display_data"
    }
   ],
   "source": [
    "threshold = 0.6\n",
    "testForFairness(max_mdl, fairnessTestItems, majorityCategories, compareMetrics, threshold)"
   ]
  },
  {
   "cell_type": "markdown",
   "id": "6efw9jQlqDse",
   "metadata": {
    "id": "6efw9jQlqDse"
   },
   "source": [
    "The balance almost equal, this indicates that our model is tending to show now bias based non gender, which indicates that removing the protected dataitem in thefirst place has had a balancing effect on the outcomes. \n",
    "\n",
    "However, we can still explicuitly remove correlated features, and constrain model training to remove bias."
   ]
  },
  {
   "cell_type": "markdown",
   "id": "0LFyHIAP59O7",
   "metadata": {
    "id": "0LFyHIAP59O7"
   },
   "source": [
    "# Stage4: Model Deployment \n",
    "\n",
    "Model deployment generally involves a change process, several levels of testing and sign off, asignment of responsibilities for the live operation of the process, models and data before deployiong the code to the cloud (or on native hardware). \n",
    "A key part of thius stage is communication of the KPIs to stakleholders to enable them to understand the way the models operate, the risks involved and to be accountable for deploying the models\n"
   ]
  },
  {
   "cell_type": "markdown",
   "id": "JZGI4nBO0HlI",
   "metadata": {
    "id": "JZGI4nBO0HlI"
   },
   "source": [
    "## Communication: Stakeholder Oriented Explanations\n",
    "\n",
    "Communication of how the model has reached the outcomes it is has, is crutial to achieve fairness, transparency, accountability, and trust in the whole process. Each stakeholder in the process needs to see different elements. The Data Scientist and technical leadership need to review the nut and bolts of the model, reviewing residuals plots, parameter importance, interaction terms and many other metrics. The customer needs to see far less information, and mainly that associated with a refusal of credit. Compliance resources and regulators need to see something different again, such as fairness regarding protected characteristics, the accuracy and therefore capital risk represented by the models. \n",
    "In this section we look at stakeholder oriented explanations and we will be using standard charts of important analytics, such as residual plots, and SHAP.\n",
    "\n",
    "First let us get the packages we will need..."
   ]
  },
  {
   "cell_type": "code",
   "execution_count": 518,
   "id": "4dWv02uvQWyd",
   "metadata": {
    "colab": {
     "base_uri": "https://localhost:8080/"
    },
    "id": "4dWv02uvQWyd",
    "outputId": "2c696861-fc46-4236-aaa4-380b8f7c44f4"
   },
   "outputs": [
    {
     "name": "stdout",
     "output_type": "stream",
     "text": [
      "Looking in indexes: https://pypi.org/simple, https://us-python.pkg.dev/colab-wheels/public/simple/\n",
      "Requirement already satisfied: shap in /usr/local/lib/python3.7/dist-packages (0.41.0)\n",
      "Requirement already satisfied: numpy in /usr/local/lib/python3.7/dist-packages (from shap) (1.21.6)\n",
      "Requirement already satisfied: pandas in /usr/local/lib/python3.7/dist-packages (from shap) (1.3.5)\n",
      "Requirement already satisfied: cloudpickle in /usr/local/lib/python3.7/dist-packages (from shap) (1.5.0)\n",
      "Requirement already satisfied: scipy in /usr/local/lib/python3.7/dist-packages (from shap) (1.7.3)\n",
      "Requirement already satisfied: tqdm>4.25.0 in /usr/local/lib/python3.7/dist-packages (from shap) (4.64.1)\n",
      "Requirement already satisfied: slicer==0.0.7 in /usr/local/lib/python3.7/dist-packages (from shap) (0.0.7)\n",
      "Requirement already satisfied: numba in /usr/local/lib/python3.7/dist-packages (from shap) (0.56.4)\n",
      "Requirement already satisfied: packaging>20.9 in /usr/local/lib/python3.7/dist-packages (from shap) (21.3)\n",
      "Requirement already satisfied: scikit-learn in /usr/local/lib/python3.7/dist-packages (from shap) (1.0.2)\n",
      "Requirement already satisfied: pyparsing!=3.0.5,>=2.0.2 in /usr/local/lib/python3.7/dist-packages (from packaging>20.9->shap) (3.0.9)\n",
      "Requirement already satisfied: llvmlite<0.40,>=0.39.0dev0 in /usr/local/lib/python3.7/dist-packages (from numba->shap) (0.39.1)\n",
      "Requirement already satisfied: importlib-metadata in /usr/local/lib/python3.7/dist-packages (from numba->shap) (4.13.0)\n",
      "Requirement already satisfied: setuptools in /usr/local/lib/python3.7/dist-packages (from numba->shap) (57.4.0)\n",
      "Requirement already satisfied: zipp>=0.5 in /usr/local/lib/python3.7/dist-packages (from importlib-metadata->numba->shap) (3.10.0)\n",
      "Requirement already satisfied: typing-extensions>=3.6.4 in /usr/local/lib/python3.7/dist-packages (from importlib-metadata->numba->shap) (4.1.1)\n",
      "Requirement already satisfied: python-dateutil>=2.7.3 in /usr/local/lib/python3.7/dist-packages (from pandas->shap) (2.8.2)\n",
      "Requirement already satisfied: pytz>=2017.3 in /usr/local/lib/python3.7/dist-packages (from pandas->shap) (2022.6)\n",
      "Requirement already satisfied: six>=1.5 in /usr/local/lib/python3.7/dist-packages (from python-dateutil>=2.7.3->pandas->shap) (1.15.0)\n",
      "Requirement already satisfied: joblib>=0.11 in /usr/local/lib/python3.7/dist-packages (from scikit-learn->shap) (1.2.0)\n",
      "Requirement already satisfied: threadpoolctl>=2.0.0 in /usr/local/lib/python3.7/dist-packages (from scikit-learn->shap) (3.1.0)\n"
     ]
    }
   ],
   "source": [
    "pip install shap"
   ]
  },
  {
   "cell_type": "code",
   "execution_count": 519,
   "id": "Nx16rPvNQdrZ",
   "metadata": {
    "id": "Nx16rPvNQdrZ"
   },
   "outputs": [],
   "source": [
    "import shap"
   ]
  },
  {
   "cell_type": "markdown",
   "id": "Ku_I-kcG8bpR",
   "metadata": {
    "id": "Ku_I-kcG8bpR"
   },
   "source": [
    "Now instantiate the SHAP explainer object for our classifier and generate Shapley values for the test data... Note that as we will be using the test data, all the analysis is therefore based on the out of sample performance of our model."
   ]
  },
  {
   "cell_type": "code",
   "execution_count": 578,
   "id": "_xCoD7kw6r0b",
   "metadata": {
    "colab": {
     "base_uri": "https://localhost:8080/",
     "height": 235
    },
    "id": "_xCoD7kw6r0b",
    "outputId": "31245974-88f0-4dbd-de06-8dafec4249c1"
   },
   "outputs": [
    {
     "ename": "IndexError",
     "evalue": "ignored",
     "output_type": "error",
     "traceback": [
      "\u001b[0;31m---------------------------------------------------------------------------\u001b[0m",
      "\u001b[0;31mIndexError\u001b[0m                                Traceback (most recent call last)",
      "\u001b[0;32m<ipython-input-578-0cc1c9659e22>\u001b[0m in \u001b[0;36m<module>\u001b[0;34m\u001b[0m\n\u001b[0;32m----> 1\u001b[0;31m \u001b[0mmax_mdl\u001b[0m \u001b[0;34m=\u001b[0m \u001b[0mall_models\u001b[0m\u001b[0;34m[\u001b[0m\u001b[0;36m12\u001b[0m\u001b[0;34m]\u001b[0m\u001b[0;34m\u001b[0m\u001b[0;34m\u001b[0m\u001b[0m\n\u001b[0m\u001b[1;32m      2\u001b[0m \u001b[0;34m\u001b[0m\u001b[0m\n\u001b[1;32m      3\u001b[0m \u001b[0mprint\u001b[0m\u001b[0;34m(\u001b[0m\u001b[0mtype\u001b[0m\u001b[0;34m(\u001b[0m\u001b[0mmax_mdl\u001b[0m\u001b[0;34m)\u001b[0m\u001b[0;34m.\u001b[0m\u001b[0m__name__\u001b[0m\u001b[0;34m)\u001b[0m\u001b[0;34m\u001b[0m\u001b[0;34m\u001b[0m\u001b[0m\n\u001b[1;32m      4\u001b[0m \u001b[0;34m\u001b[0m\u001b[0m\n\u001b[1;32m      5\u001b[0m \u001b[0;31m# Instantiate an explainer object for our chosen classifier...\u001b[0m\u001b[0;34m\u001b[0m\u001b[0;34m\u001b[0m\u001b[0;34m\u001b[0m\u001b[0m\n",
      "\u001b[0;31mIndexError\u001b[0m: list index out of range"
     ]
    }
   ],
   "source": [
    "print(type(max_mdl).__name__)\n",
    "\n",
    "# Instantiate an explainer object for our chosen classifier...\n",
    "if type(max_mdl).__name__ == 'DecisionTreeClassifier':\n",
    "  explainer = shap.Explainer(max_mdl.predict, X_test.values)\n",
    "  shap_values = explainer(X_test.values)\n",
    "elif type(max_mdl).__name__ == 'GaussianNB':\n",
    "  explainer = shap.KernelExplainer(max_mdl.predict, X_test.values)\n",
    "  shap_values = explainer.shap_values(X_test.values)\n",
    "elif type(max_mdl).__name__ == 'LogisticRegression':\n",
    "  masker=shap.maskers.Impute(data=X_test) #,feature_names=X_test.columns)\n",
    "  explainer = shap.LinearExplainer(max_mdl, masker = masker)  \n",
    "  shap_values = explainer.shap_values(X_test.values)\n",
    "elif type(max_mdl).__name__ == 'MLPClassifier':\n",
    "  explainer = shap.KernelExplainer(max_mdl.predict, X_test.values)\n",
    "  shap_values = explainer.shap_values(X_test.values)\n",
    "elif type(max_mdl).__name__ == 'RandomForestClassifier':\n",
    "  explainer = shap.Explainer(max_mdl.predict, X_test.values)\n",
    "  shap_values = explainer(X_test.values)\n",
    "elif type(max_mdl).__name__ == 'LinearDiscriminantAnalysis':\n",
    "  masker = shap.maskers.Independent(data = X_test.values)\n",
    "  explainer = shap.LinearExplainer(max_mdl, masker = masker)\n",
    "  shap_values = explainer(X_test.values)\n",
    "elif type(max_mdl).__name__ == 'QuadraticDiscriminantAnalysis':\n",
    "  explainer = shap.Explainer(max_mdl.predict, X_test.values)\n",
    "  shap_values = explainer(X_test.values)\n",
    "elif type(max_mdl).__name__ == 'AdaBoostClassifier':\n",
    "  explainer = shap.Explainer(max_mdl.predict, X_test.values)\n",
    "  shap_values = explainer(X_test.values)\n",
    "elif type(max_mdl).__name__ == 'GradientBoostingClassifier':\n",
    "  explainer = shap.Explainer(max_mdl.predict, X_test.values)\n",
    "  shap_values = explainer(X_test.values)\n",
    "elif type(max_mdl).__name__ == 'KNeighborsClassifier':\n",
    "  explainer = shap.Explainer(max_mdl.predict, X_test.values)\n",
    "  shap_values = explainer(X_test.values)\n",
    "elif type(max_mdl).__name__ == 'SVC':\n",
    "  explainer = shap.Explainer(max_mdl.predict, X_test.values)\n",
    "  shap_values = explainer(X_test.values)\n",
    "elif type(max_mdl).__name__ == 'NuSVC':\n",
    "  explainer = shap.Explainer(max_mdl.predict, X_test.values)\n",
    "  shap_values = explainer(X_test.values)\n",
    "\n",
    "# Get the Shapley values for the X_test data...\n",
    "#shap_values = explainer.shap_values(X_test.values)"
   ]
  },
  {
   "cell_type": "markdown",
   "id": "bdMhCBHMFf4v",
   "metadata": {
    "id": "bdMhCBHMFf4v"
   },
   "source": [
    "### 1) Analyst and technical explainability"
   ]
  },
  {
   "cell_type": "code",
   "execution_count": 525,
   "id": "fPlSWba2dSoo",
   "metadata": {
    "colab": {
     "base_uri": "https://localhost:8080/",
     "height": 630
    },
    "id": "fPlSWba2dSoo",
    "outputId": "65c133c5-10de-465c-bb90-059733afafde"
   },
   "outputs": [
    {
     "name": "stdout",
     "output_type": "stream",
     "text": [
      "0.4636363636363636\n"
     ]
    },
    {
     "name": "stderr",
     "output_type": "stream",
     "text": [
      "Function plot_roc_curve is deprecated; Function :func:`plot_roc_curve` is deprecated in 1.0 and will be removed in 1.2. Use one of the class methods: :meth:`sklearn.metric.RocCurveDisplay.from_predictions` or :meth:`sklearn.metric.RocCurveDisplay.from_estimator`.\n",
      "X has feature names, but RandomForestClassifier was fitted without feature names\n"
     ]
    },
    {
     "data": {
      "image/png": "[encoded data removed]",
      "text/plain": [
       "<Figure size 432x288 with 1 Axes>"
      ]
     },
     "metadata": {
      "needs_background": "light"
     },
     "output_type": "display_data"
    },
    {
     "data": {
      "image/png": "[encoded data removed]",
      "text/plain": [
       "<Figure size 432x288 with 1 Axes>"
      ]
     },
     "metadata": {
      "needs_background": "light"
     },
     "output_type": "display_data"
    },
    {
     "data": {
      "text/plain": [
       "(0.5425531914893617, 0.4636363636363636, 0.6538461538461539)"
      ]
     },
     "execution_count": 525,
     "metadata": {},
     "output_type": "execute_result"
    }
   ],
   "source": [
    "# Analyst KPI...\n",
    "kpi_review_analyst(mdl=max_mdl,X=X_test, y=y_test, y_hat=y_test_hat)"
   ]
  },
  {
   "cell_type": "code",
   "execution_count": 526,
   "id": "fQA6gVOre56h",
   "metadata": {
    "colab": {
     "base_uri": "https://localhost:8080/",
     "height": 522
    },
    "id": "fQA6gVOre56h",
    "outputId": "e1161200-d9e6-4e83-e2bc-4e3eef70f6dd"
   },
   "outputs": [
    {
     "data": {
      "text/html": [
       "\n",
       "  <div id=\"df-a107a9b0-c28a-4c9e-8cd0-e9c41216ec11\">\n",
       "    <div class=\"colab-df-container\">\n",
       "      <div>\n",
       "<style scoped>\n",
       "    .dataframe tbody tr th:only-of-type {\n",
       "        vertical-align: middle;\n",
       "    }\n",
       "\n",
       "    .dataframe tbody tr th {\n",
       "        vertical-align: top;\n",
       "    }\n",
       "\n",
       "    .dataframe thead th {\n",
       "        text-align: right;\n",
       "    }\n",
       "</style>\n",
       "<table border=\"1\" class=\"dataframe\">\n",
       "  <thead>\n",
       "    <tr style=\"text-align: right;\">\n",
       "      <th></th>\n",
       "      <th>duration</th>\n",
       "      <th>credit_amount</th>\n",
       "      <th>installment_commitment</th>\n",
       "      <th>residence_since</th>\n",
       "      <th>age</th>\n",
       "      <th>existing_credits</th>\n",
       "      <th>num_dependents</th>\n",
       "      <th>foreign_worker</th>\n",
       "      <th>checking_status_0&lt;=X&lt;200</th>\n",
       "      <th>checking_status_&lt;0</th>\n",
       "      <th>...</th>\n",
       "      <th>other_payment_plans_stores</th>\n",
       "      <th>housing_for free</th>\n",
       "      <th>housing_own</th>\n",
       "      <th>housing_rent</th>\n",
       "      <th>job_high qualif/self emp/mgmt</th>\n",
       "      <th>job_skilled</th>\n",
       "      <th>job_unemp/unskilled non res</th>\n",
       "      <th>job_unskilled resident</th>\n",
       "      <th>own_telephone_none</th>\n",
       "      <th>own_telephone_yes</th>\n",
       "    </tr>\n",
       "  </thead>\n",
       "  <tbody>\n",
       "    <tr>\n",
       "      <th>885</th>\n",
       "      <td>12</td>\n",
       "      <td>795</td>\n",
       "      <td>4</td>\n",
       "      <td>4</td>\n",
       "      <td>53</td>\n",
       "      <td>1</td>\n",
       "      <td>1</td>\n",
       "      <td>1</td>\n",
       "      <td>0</td>\n",
       "      <td>1</td>\n",
       "      <td>...</td>\n",
       "      <td>0</td>\n",
       "      <td>0</td>\n",
       "      <td>1</td>\n",
       "      <td>0</td>\n",
       "      <td>0</td>\n",
       "      <td>1</td>\n",
       "      <td>0</td>\n",
       "      <td>0</td>\n",
       "      <td>1</td>\n",
       "      <td>0</td>\n",
       "    </tr>\n",
       "    <tr>\n",
       "      <th>864</th>\n",
       "      <td>10</td>\n",
       "      <td>2210</td>\n",
       "      <td>2</td>\n",
       "      <td>2</td>\n",
       "      <td>25</td>\n",
       "      <td>1</td>\n",
       "      <td>1</td>\n",
       "      <td>1</td>\n",
       "      <td>0</td>\n",
       "      <td>0</td>\n",
       "      <td>...</td>\n",
       "      <td>0</td>\n",
       "      <td>0</td>\n",
       "      <td>0</td>\n",
       "      <td>1</td>\n",
       "      <td>0</td>\n",
       "      <td>0</td>\n",
       "      <td>0</td>\n",
       "      <td>1</td>\n",
       "      <td>1</td>\n",
       "      <td>0</td>\n",
       "    </tr>\n",
       "    <tr>\n",
       "      <th>575</th>\n",
       "      <td>15</td>\n",
       "      <td>2788</td>\n",
       "      <td>2</td>\n",
       "      <td>3</td>\n",
       "      <td>0</td>\n",
       "      <td>2</td>\n",
       "      <td>1</td>\n",
       "      <td>1</td>\n",
       "      <td>0</td>\n",
       "      <td>0</td>\n",
       "      <td>...</td>\n",
       "      <td>0</td>\n",
       "      <td>0</td>\n",
       "      <td>1</td>\n",
       "      <td>0</td>\n",
       "      <td>0</td>\n",
       "      <td>1</td>\n",
       "      <td>0</td>\n",
       "      <td>0</td>\n",
       "      <td>1</td>\n",
       "      <td>0</td>\n",
       "    </tr>\n",
       "    <tr>\n",
       "      <th>778</th>\n",
       "      <td>36</td>\n",
       "      <td>5711</td>\n",
       "      <td>4</td>\n",
       "      <td>2</td>\n",
       "      <td>38</td>\n",
       "      <td>2</td>\n",
       "      <td>1</td>\n",
       "      <td>1</td>\n",
       "      <td>0</td>\n",
       "      <td>0</td>\n",
       "      <td>...</td>\n",
       "      <td>0</td>\n",
       "      <td>0</td>\n",
       "      <td>1</td>\n",
       "      <td>0</td>\n",
       "      <td>1</td>\n",
       "      <td>0</td>\n",
       "      <td>0</td>\n",
       "      <td>0</td>\n",
       "      <td>0</td>\n",
       "      <td>1</td>\n",
       "    </tr>\n",
       "    <tr>\n",
       "      <th>979</th>\n",
       "      <td>15</td>\n",
       "      <td>1264</td>\n",
       "      <td>2</td>\n",
       "      <td>2</td>\n",
       "      <td>25</td>\n",
       "      <td>1</td>\n",
       "      <td>1</td>\n",
       "      <td>1</td>\n",
       "      <td>1</td>\n",
       "      <td>0</td>\n",
       "      <td>...</td>\n",
       "      <td>0</td>\n",
       "      <td>0</td>\n",
       "      <td>0</td>\n",
       "      <td>1</td>\n",
       "      <td>0</td>\n",
       "      <td>1</td>\n",
       "      <td>0</td>\n",
       "      <td>0</td>\n",
       "      <td>1</td>\n",
       "      <td>0</td>\n",
       "    </tr>\n",
       "    <tr>\n",
       "      <th>...</th>\n",
       "      <td>...</td>\n",
       "      <td>...</td>\n",
       "      <td>...</td>\n",
       "      <td>...</td>\n",
       "      <td>...</td>\n",
       "      <td>...</td>\n",
       "      <td>...</td>\n",
       "      <td>...</td>\n",
       "      <td>...</td>\n",
       "      <td>...</td>\n",
       "      <td>...</td>\n",
       "      <td>...</td>\n",
       "      <td>...</td>\n",
       "      <td>...</td>\n",
       "      <td>...</td>\n",
       "      <td>...</td>\n",
       "      <td>...</td>\n",
       "      <td>...</td>\n",
       "      <td>...</td>\n",
       "      <td>...</td>\n",
       "      <td>...</td>\n",
       "    </tr>\n",
       "    <tr>\n",
       "      <th>440</th>\n",
       "      <td>12</td>\n",
       "      <td>1884</td>\n",
       "      <td>4</td>\n",
       "      <td>4</td>\n",
       "      <td>39</td>\n",
       "      <td>1</td>\n",
       "      <td>1</td>\n",
       "      <td>1</td>\n",
       "      <td>0</td>\n",
       "      <td>0</td>\n",
       "      <td>...</td>\n",
       "      <td>0</td>\n",
       "      <td>0</td>\n",
       "      <td>1</td>\n",
       "      <td>0</td>\n",
       "      <td>1</td>\n",
       "      <td>0</td>\n",
       "      <td>0</td>\n",
       "      <td>0</td>\n",
       "      <td>0</td>\n",
       "      <td>1</td>\n",
       "    </tr>\n",
       "    <tr>\n",
       "      <th>256</th>\n",
       "      <td>24</td>\n",
       "      <td>2684</td>\n",
       "      <td>4</td>\n",
       "      <td>2</td>\n",
       "      <td>35</td>\n",
       "      <td>2</td>\n",
       "      <td>1</td>\n",
       "      <td>1</td>\n",
       "      <td>0</td>\n",
       "      <td>0</td>\n",
       "      <td>...</td>\n",
       "      <td>0</td>\n",
       "      <td>0</td>\n",
       "      <td>1</td>\n",
       "      <td>0</td>\n",
       "      <td>0</td>\n",
       "      <td>0</td>\n",
       "      <td>0</td>\n",
       "      <td>1</td>\n",
       "      <td>1</td>\n",
       "      <td>0</td>\n",
       "    </tr>\n",
       "    <tr>\n",
       "      <th>319</th>\n",
       "      <td>15</td>\n",
       "      <td>3643</td>\n",
       "      <td>1</td>\n",
       "      <td>4</td>\n",
       "      <td>27</td>\n",
       "      <td>2</td>\n",
       "      <td>1</td>\n",
       "      <td>1</td>\n",
       "      <td>0</td>\n",
       "      <td>1</td>\n",
       "      <td>...</td>\n",
       "      <td>0</td>\n",
       "      <td>0</td>\n",
       "      <td>1</td>\n",
       "      <td>0</td>\n",
       "      <td>0</td>\n",
       "      <td>0</td>\n",
       "      <td>0</td>\n",
       "      <td>1</td>\n",
       "      <td>1</td>\n",
       "      <td>0</td>\n",
       "    </tr>\n",
       "    <tr>\n",
       "      <th>181</th>\n",
       "      <td>36</td>\n",
       "      <td>4455</td>\n",
       "      <td>2</td>\n",
       "      <td>2</td>\n",
       "      <td>30</td>\n",
       "      <td>2</td>\n",
       "      <td>1</td>\n",
       "      <td>1</td>\n",
       "      <td>1</td>\n",
       "      <td>0</td>\n",
       "      <td>...</td>\n",
       "      <td>1</td>\n",
       "      <td>0</td>\n",
       "      <td>1</td>\n",
       "      <td>0</td>\n",
       "      <td>1</td>\n",
       "      <td>0</td>\n",
       "      <td>0</td>\n",
       "      <td>0</td>\n",
       "      <td>0</td>\n",
       "      <td>1</td>\n",
       "    </tr>\n",
       "    <tr>\n",
       "      <th>532</th>\n",
       "      <td>12</td>\n",
       "      <td>1503</td>\n",
       "      <td>4</td>\n",
       "      <td>4</td>\n",
       "      <td>41</td>\n",
       "      <td>1</td>\n",
       "      <td>1</td>\n",
       "      <td>1</td>\n",
       "      <td>0</td>\n",
       "      <td>0</td>\n",
       "      <td>...</td>\n",
       "      <td>0</td>\n",
       "      <td>0</td>\n",
       "      <td>0</td>\n",
       "      <td>1</td>\n",
       "      <td>0</td>\n",
       "      <td>1</td>\n",
       "      <td>0</td>\n",
       "      <td>0</td>\n",
       "      <td>1</td>\n",
       "      <td>0</td>\n",
       "    </tr>\n",
       "  </tbody>\n",
       "</table>\n",
       "<p>300 rows × 56 columns</p>\n",
       "</div>\n",
       "      <button class=\"colab-df-convert\" onclick=\"convertToInteractive('df-a107a9b0-c28a-4c9e-8cd0-e9c41216ec11')\"\n",
       "              title=\"Convert this dataframe to an interactive table.\"\n",
       "              style=\"display:none;\">\n",
       "        \n",
       "  <svg xmlns=\"http://www.w3.org/2000/svg\" height=\"24px\"viewBox=\"0 0 24 24\"\n",
       "       width=\"24px\">\n",
       "    <path d=\"M0 0h24v24H0V0z\" fill=\"none\"/>\n",
       "    <path d=\"M18.56 5.44l.94 2.06.94-2.06 2.06-.94-2.06-.94-.94-2.06-.94 2.06-2.06.94zm-11 1L8.5 8.5l.94-2.06 2.06-.94-2.06-.94L8.5 2.5l-.94 2.06-2.06.94zm10 10l.94 2.06.94-2.06 2.06-.94-2.06-.94-.94-2.06-.94 2.06-2.06.94z\"/><path d=\"M17.41 7.96l-1.37-1.37c-.4-.4-.92-.59-1.43-.59-.52 0-1.04.2-1.43.59L10.3 9.45l-7.72 7.72c-.78.78-.78 2.05 0 2.83L4 21.41c.39.39.9.59 1.41.59.51 0 1.02-.2 1.41-.59l7.78-7.78 2.81-2.81c.8-.78.8-2.07 0-2.86zM5.41 20L4 18.59l7.72-7.72 1.47 1.35L5.41 20z\"/>\n",
       "  </svg>\n",
       "      </button>\n",
       "      \n",
       "  <style>\n",
       "    .colab-df-container {\n",
       "      display:flex;\n",
       "      flex-wrap:wrap;\n",
       "      gap: 12px;\n",
       "    }\n",
       "\n",
       "    .colab-df-convert {\n",
       "      background-color: #E8F0FE;\n",
       "      border: none;\n",
       "      border-radius: 50%;\n",
       "      cursor: pointer;\n",
       "      display: none;\n",
       "      fill: #1967D2;\n",
       "      height: 32px;\n",
       "      padding: 0 0 0 0;\n",
       "      width: 32px;\n",
       "    }\n",
       "\n",
       "    .colab-df-convert:hover {\n",
       "      background-color: #E2EBFA;\n",
       "      box-shadow: 0px 1px 2px rgba(60, 64, 67, 0.3), 0px 1px 3px 1px rgba(60, 64, 67, 0.15);\n",
       "      fill: #174EA6;\n",
       "    }\n",
       "\n",
       "    [theme=dark] .colab-df-convert {\n",
       "      background-color: #3B4455;\n",
       "      fill: #D2E3FC;\n",
       "    }\n",
       "\n",
       "    [theme=dark] .colab-df-convert:hover {\n",
       "      background-color: #434B5C;\n",
       "      box-shadow: 0px 1px 3px 1px rgba(0, 0, 0, 0.15);\n",
       "      filter: drop-shadow(0px 1px 2px rgba(0, 0, 0, 0.3));\n",
       "      fill: #FFFFFF;\n",
       "    }\n",
       "  </style>\n",
       "\n",
       "      <script>\n",
       "        const buttonEl =\n",
       "          document.querySelector('#df-a107a9b0-c28a-4c9e-8cd0-e9c41216ec11 button.colab-df-convert');\n",
       "        buttonEl.style.display =\n",
       "          google.colab.kernel.accessAllowed ? 'block' : 'none';\n",
       "\n",
       "        async function convertToInteractive(key) {\n",
       "          const element = document.querySelector('#df-a107a9b0-c28a-4c9e-8cd0-e9c41216ec11');\n",
       "          const dataTable =\n",
       "            await google.colab.kernel.invokeFunction('convertToInteractive',\n",
       "                                                     [key], {});\n",
       "          if (!dataTable) return;\n",
       "\n",
       "          const docLinkHtml = 'Like what you see? Visit the ' +\n",
       "            '<a target=\"_blank\" href=https://colab.research.google.com/notebooks/data_table.ipynb>data table notebook</a>'\n",
       "            + ' to learn more about interactive tables.';\n",
       "          element.innerHTML = '';\n",
       "          dataTable['output_type'] = 'display_data';\n",
       "          await google.colab.output.renderOutput(dataTable, element);\n",
       "          const docLink = document.createElement('div');\n",
       "          docLink.innerHTML = docLinkHtml;\n",
       "          element.appendChild(docLink);\n",
       "        }\n",
       "      </script>\n",
       "    </div>\n",
       "  </div>\n",
       "  "
      ],
      "text/plain": [
       "     duration  credit_amount  installment_commitment  residence_since  age  \\\n",
       "885        12            795                       4                4   53   \n",
       "864        10           2210                       2                2   25   \n",
       "575        15           2788                       2                3    0   \n",
       "778        36           5711                       4                2   38   \n",
       "979        15           1264                       2                2   25   \n",
       "..        ...            ...                     ...              ...  ...   \n",
       "440        12           1884                       4                4   39   \n",
       "256        24           2684                       4                2   35   \n",
       "319        15           3643                       1                4   27   \n",
       "181        36           4455                       2                2   30   \n",
       "532        12           1503                       4                4   41   \n",
       "\n",
       "     existing_credits  num_dependents  foreign_worker  \\\n",
       "885                 1               1               1   \n",
       "864                 1               1               1   \n",
       "575                 2               1               1   \n",
       "778                 2               1               1   \n",
       "979                 1               1               1   \n",
       "..                ...             ...             ...   \n",
       "440                 1               1               1   \n",
       "256                 2               1               1   \n",
       "319                 2               1               1   \n",
       "181                 2               1               1   \n",
       "532                 1               1               1   \n",
       "\n",
       "     checking_status_0<=X<200  checking_status_<0  ...  \\\n",
       "885                         0                   1  ...   \n",
       "864                         0                   0  ...   \n",
       "575                         0                   0  ...   \n",
       "778                         0                   0  ...   \n",
       "979                         1                   0  ...   \n",
       "..                        ...                 ...  ...   \n",
       "440                         0                   0  ...   \n",
       "256                         0                   0  ...   \n",
       "319                         0                   1  ...   \n",
       "181                         1                   0  ...   \n",
       "532                         0                   0  ...   \n",
       "\n",
       "     other_payment_plans_stores  housing_for free  housing_own  housing_rent  \\\n",
       "885                           0                 0            1             0   \n",
       "864                           0                 0            0             1   \n",
       "575                           0                 0            1             0   \n",
       "778                           0                 0            1             0   \n",
       "979                           0                 0            0             1   \n",
       "..                          ...               ...          ...           ...   \n",
       "440                           0                 0            1             0   \n",
       "256                           0                 0            1             0   \n",
       "319                           0                 0            1             0   \n",
       "181                           1                 0            1             0   \n",
       "532                           0                 0            0             1   \n",
       "\n",
       "     job_high qualif/self emp/mgmt  job_skilled  job_unemp/unskilled non res  \\\n",
       "885                              0            1                            0   \n",
       "864                              0            0                            0   \n",
       "575                              0            1                            0   \n",
       "778                              1            0                            0   \n",
       "979                              0            1                            0   \n",
       "..                             ...          ...                          ...   \n",
       "440                              1            0                            0   \n",
       "256                              0            0                            0   \n",
       "319                              0            0                            0   \n",
       "181                              1            0                            0   \n",
       "532                              0            1                            0   \n",
       "\n",
       "     job_unskilled resident  own_telephone_none  own_telephone_yes  \n",
       "885                       0                   1                  0  \n",
       "864                       1                   1                  0  \n",
       "575                       0                   1                  0  \n",
       "778                       0                   0                  1  \n",
       "979                       0                   1                  0  \n",
       "..                      ...                 ...                ...  \n",
       "440                       0                   0                  1  \n",
       "256                       1                   1                  0  \n",
       "319                       1                   1                  0  \n",
       "181                       0                   0                  1  \n",
       "532                       0                   1                  0  \n",
       "\n",
       "[300 rows x 56 columns]"
      ]
     },
     "execution_count": 526,
     "metadata": {},
     "output_type": "execute_result"
    }
   ],
   "source": [
    "X_test"
   ]
  },
  {
   "cell_type": "markdown",
   "id": "8u7btmtyFKNn",
   "metadata": {
    "id": "8u7btmtyFKNn"
   },
   "source": [
    "Feature importance"
   ]
  },
  {
   "cell_type": "code",
   "execution_count": 552,
   "id": "NfwlscWzExPQ",
   "metadata": {
    "colab": {
     "base_uri": "https://localhost:8080/",
     "height": 962
    },
    "id": "NfwlscWzExPQ",
    "outputId": "8b20501f-2f3a-4dae-e666-9072a12a5987"
   },
   "outputs": [
    {
     "data": {
      "image/png": "[encoded data removed]",
      "text/plain": [
       "<Figure size 576x1188 with 1 Axes>"
      ]
     },
     "metadata": {},
     "output_type": "display_data"
    }
   ],
   "source": [
    "# Plot the feature importance\n",
    "shap.plots.bar(shap_values, max_display=30)"
   ]
  },
  {
   "cell_type": "markdown",
   "id": "ce1fcWInh48Q",
   "metadata": {
    "id": "ce1fcWInh48Q"
   },
   "source": [
    "### 2) Compliance and Regulatory\n",
    "\n"
   ]
  },
  {
   "cell_type": "markdown",
   "id": "fxV86fMFKX7r",
   "metadata": {
    "id": "fxV86fMFKX7r"
   },
   "source": [
    "See if any features are suspiciously important for one gender vs another."
   ]
  },
  {
   "cell_type": "code",
   "execution_count": 30,
   "id": "geMC5WAshfuT",
   "metadata": {
    "colab": {
     "base_uri": "https://localhost:8080/",
     "height": 501
    },
    "id": "geMC5WAshfuT",
    "outputId": "134e7913-69a0-4d89-c30d-5eab71c61fd5"
   },
   "outputs": [
    {
     "data": {
      "text/plain": [
       "352    female\n",
       "279    female\n",
       "218    female\n",
       "681    female\n",
       "581    female\n",
       "        ...  \n",
       "434    female\n",
       "718    female\n",
       "698    female\n",
       "983    female\n",
       "435    female\n",
       "Name: gender, Length: 300, dtype: object"
      ]
     },
     "execution_count": 30,
     "metadata": {},
     "output_type": "execute_result"
    }
   ],
   "source": [
    "X_test['gender']"
   ]
  },
  {
   "cell_type": "code",
   "execution_count": 31,
   "id": "nqJGtpmu1nig",
   "metadata": {
    "colab": {
     "base_uri": "https://localhost:8080/",
     "height": 501
    },
    "id": "nqJGtpmu1nig",
    "outputId": "cb2e8057-2de7-43b9-8255-bbefba7b003a"
   },
   "outputs": [
    {
     "ename": "NameError",
     "evalue": "name 'shap' is not defined",
     "output_type": "error",
     "traceback": [
      "\u001b[0;31m---------------------------------------------------------------------------\u001b[0m",
      "\u001b[0;31mNameError\u001b[0m                                 Traceback (most recent call last)",
      "\u001b[0;32m/var/folders/vt/y0s__sfn49j5x0l03d9y4ff80000gn/T/ipykernel_1050/3539406475.py\u001b[0m in \u001b[0;36m<module>\u001b[0;34m\u001b[0m\n\u001b[1;32m      3\u001b[0m \u001b[0;34m\u001b[0m\u001b[0m\n\u001b[1;32m      4\u001b[0m \u001b[0;31m# Plot the feature importance\u001b[0m\u001b[0;34m\u001b[0m\u001b[0;34m\u001b[0m\u001b[0m\n\u001b[0;32m----> 5\u001b[0;31m \u001b[0mshap\u001b[0m\u001b[0;34m.\u001b[0m\u001b[0mplots\u001b[0m\u001b[0;34m.\u001b[0m\u001b[0mbar\u001b[0m\u001b[0;34m(\u001b[0m\u001b[0mshap_values\u001b[0m\u001b[0;34m.\u001b[0m\u001b[0mcohorts\u001b[0m\u001b[0;34m(\u001b[0m\u001b[0mgdr\u001b[0m\u001b[0;34m)\u001b[0m\u001b[0;34m.\u001b[0m\u001b[0mabs\u001b[0m\u001b[0;34m.\u001b[0m\u001b[0mmean\u001b[0m\u001b[0;34m(\u001b[0m\u001b[0;36m0\u001b[0m\u001b[0;34m)\u001b[0m\u001b[0;34m)\u001b[0m\u001b[0;34m\u001b[0m\u001b[0;34m\u001b[0m\u001b[0m\n\u001b[0m",
      "\u001b[0;31mNameError\u001b[0m: name 'shap' is not defined"
     ]
    }
   ],
   "source": [
    "# Parameter importance by gender..\n",
    "gdr = [\"male\" if x==1 else \"female\" for x in X_test['gender']]\n",
    "\n",
    "# Plot the feature importance\n",
    "shap.plots.bar(shap_values.cohorts(gdr).abs.mean(0))"
   ]
  },
  {
   "cell_type": "markdown",
   "id": "5MGWlux3KvFy",
   "metadata": {
    "id": "5MGWlux3KvFy"
   },
   "source": [
    "@@@@@@@@@@@@@@@@@@@@@@@@@@@@@@@@@ \n",
    "@@@@@@@@@@@@@@@@@@@@@@@@@@@@@@@@@ \n",
    "@@@@@@@@@@@@@@@@@@@@@@@@@@@@@@@@@ \n",
    "Madhu\n",
    "@@@@@@@@@@@@@@@@@@@@@@@@@@@@@@@@@ \n",
    "@@@@@@@@@@@@@@@@@@@@@@@@@@@@@@@@@ \n",
    "@@@@@@@@@@@@@@@@@@@@@@@@@@@@@@@@@ "
   ]
  },
  {
   "cell_type": "markdown",
   "id": "De8c3JUdKvtR",
   "metadata": {
    "id": "De8c3JUdKvtR"
   },
   "source": [
    "### 3) Customer\n",
    "\n",
    "A customer may want to knowlt he sensitivity of the decision to certain characteristics. IF a refusal has been made, it would be beneficial to report to the customer what they need to change to get a favorable outcome. \n",
    "\n",
    "We can use the SHAP waterfall plot to help"
   ]
  },
  {
   "cell_type": "code",
   "execution_count": null,
   "id": "4ZHyTdYTLCh8",
   "metadata": {
    "id": "4ZHyTdYTLCh8"
   },
   "outputs": [],
   "source": [
    "# Find a customer with bad credit prediction\n",
    "for rejected_eg_rowno in range(0,y_test.shape[0]):\n",
    "  if y_test.iloc[rejected_eg_rowno] == 1:\n",
    "    break\n",
    "\n",
    "# This customer was refused credit and we can provide an explanation for their refusal...\n",
    "shap.plots.waterfall(shap_values[rejected_eg_rowno])"
   ]
  },
  {
   "cell_type": "code",
   "execution_count": null,
   "id": "dha9E2RRLRvI",
   "metadata": {
    "id": "dha9E2RRLRvI"
   },
   "outputs": [],
   "source": [
    "y_test.reset_index()"
   ]
  },
  {
   "cell_type": "markdown",
   "id": "TTN8r_7zRDbt",
   "metadata": {
    "id": "TTN8r_7zRDbt"
   },
   "source": [
    "# Stage 5: Model Monitoring and Reporting\n",
    "\n",
    "Our model is now in production and being used in practice. We are \"risk on\" and we need to continually monitor and record our KPIs. Individuals accountability for these processes is critical.\n",
    "\n",
    "We also need to monitor data drift. If the distribution or the nature of the data we pass into our model substantioally differs from our training data, our model results will almost certainly be garbage. We need to monitor data drift and should drift occurr we need to re-run our model developmnent process to traing an appropriate model. This would take us back to Stage2 in this process.\n",
    "\n",
    "There is also the question of whether our model is still the best approach as time steps forward? Our model paramaters may become stale, the model itself may be less appropriaytr given its inductive biases. Many things can change and to monitor this we should consider using a challenger model. Challenger models are used to compete against our live model, and we should monitor our KPIs generated by our live model and compare them to those produced by the challenger model. "
   ]
  },
  {
   "cell_type": "markdown",
   "id": "j3se-Ud-Spu3",
   "metadata": {
    "id": "j3se-Ud-Spu3"
   },
   "source": [
    "## Stage5a: Data Drift"
   ]
  },
  {
   "cell_type": "code",
   "execution_count": null,
   "id": "QREnQ1poSmRR",
   "metadata": {
    "id": "QREnQ1poSmRR"
   },
   "outputs": [],
   "source": [
    "# AUGUSTINE! Add your function call HERE"
   ]
  },
  {
   "cell_type": "markdown",
   "id": "4wmYyfyWRmrR",
   "metadata": {
    "id": "4wmYyfyWRmrR"
   },
   "source": [
    "## Stage5b: Challenger Models\n",
    "\n",
    "So what model do we use as a challenger, and when do we traing it? There are no perfect answers but we can use our model development pipeline to help. Note that our model selection function, auto_classifier_selection, allowed us to generate a range of classifiers, we can use one or all of these classifiers as our challenger. If we decided to ensemble the classifiers as our live model (ir combine the results of all in a voting ensemble for instance) we can select the best single model as our challeger. If we decided to use the best single model as our live model, we can use a boting ensemble as our challenger.\n",
    "\n"
   ]
  },
  {
   "cell_type": "code",
   "execution_count": null,
   "id": "_8v9zlaWTd3F",
   "metadata": {
    "id": "_8v9zlaWTd3F"
   },
   "outputs": [],
   "source": [
    "from sklearn.ensemble import VotingClassifier\n",
    "\n",
    "# Prepare our models for ensembling\n",
    "challenger_models = []\n",
    "for i in range(0, all_models_desc.__len__()):\n",
    "  challenger_models.append((all_models_desc[i], all_models[i]))\n",
    "\n",
    "\n",
    "# Instantiate ...\n",
    "vc = VotingClassifier(estimators=challenger_models, voting='hard')\n",
    "\n",
    "# Fit on the training data to train your live model... \n",
    "challenger_mdl = vc.fit(X, y)\n",
    "\n",
    "# Challenge! Compare the results\n",
    "challenger_mdl.predict(X)"
   ]
  }
 ],
 "metadata": {
  "colab": {
   "provenance": []
  },
  "kernelspec": {
   "display_name": "Python 3 (ipykernel)",
   "language": "python",
   "name": "python3"
  },
  "language_info": {
   "codemirror_mode": {
    "name": "ipython",
    "version": 3
   },
   "file_extension": ".py",
   "mimetype": "text/x-python",
   "name": "python",
   "nbconvert_exporter": "python",
   "pygments_lexer": "ipython3",
   "version": "3.9.13"
  }
 },
 "nbformat": 4,
 "nbformat_minor": 5
}
